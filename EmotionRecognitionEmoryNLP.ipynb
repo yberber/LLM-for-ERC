{
 "cells": [
  {
   "cell_type": "markdown",
   "id": "e001c8bf-1ff3-403b-8077-25246059bdfb",
   "metadata": {},
   "source": [
    "# Import necessary packages"
   ]
  },
  {
   "cell_type": "code",
   "execution_count": 1,
   "id": "9cd84ec2-3081-4073-a771-cf6bbc5e3792",
   "metadata": {},
   "outputs": [
    {
     "name": "stderr",
     "output_type": "stream",
     "text": [
      "/opt/miniconda3/envs/emo-rec/lib/python3.9/site-packages/tqdm/auto.py:21: TqdmWarning: IProgress not found. Please update jupyter and ipywidgets. See https://ipywidgets.readthedocs.io/en/stable/user_install.html\n",
      "  from .autonotebook import tqdm as notebook_tqdm\n"
     ]
    }
   ],
   "source": [
    "import pandas as pd\n",
    "import seaborn as sns\n",
    "import matplotlib.pyplot as plt\n",
    "from transformers import pipeline\n",
    "import openai\n",
    "from sklearn.metrics import classification_report\n",
    "from tqdm import tqdm\n",
    "from langchain_ollama.llms import OllamaLLM\n",
    "from langchain_google_vertexai import ChatVertexAI\n",
    "from langchain.chains import LLMChain\n",
    "from langchain_core.prompts import ChatPromptTemplate\n",
    "from langchain_openai import ChatOpenAI\n",
    "from langchain_core.messages.ai import AIMessage\n",
    "from langchain_google_vertexai import ChatVertexAI\n",
    "import plotly.express as px\n",
    "import plotly.graph_objects as go\n",
    "from sklearn.pipeline import Pipeline\n",
    "from sklearn.feature_extraction.text import CountVectorizer\n",
    "from sklearn.svm import SVC\n",
    "from sklearn.ensemble import RandomForestClassifier\n",
    "from sklearn.linear_model import LogisticRegression\n",
    "import neattext.functions as nfx\n",
    "import os\n",
    "from typing import List, Dict, Any, Optional\n",
    "from langchain_huggingface import HuggingFaceEmbeddings\n",
    "from langchain_community.vectorstores import FAISS\n",
    "from sklearn.metrics import f1_score"
   ]
  },
  {
   "cell_type": "markdown",
   "id": "2c8db58d-2464-4f03-871a-4559047906dc",
   "metadata": {},
   "source": [
    "# Load EmoryNLP dataset"
   ]
  },
  {
   "cell_type": "code",
   "execution_count": 2,
   "id": "1cf98448-6d52-4eb6-9c2a-117358627687",
   "metadata": {},
   "outputs": [],
   "source": [
    "df_train = pd.read_csv(\"datasets/emorynlp/emorynlp_train_final.csv\")\n",
    "df_test = pd.read_csv(\"datasets/emorynlp/emorynlp_test_final.csv\")"
   ]
  },
  {
   "cell_type": "markdown",
   "id": "b54f602d-9770-4442-a70a-a77d3c2b620e",
   "metadata": {},
   "source": [
    "**Converting emotion labels to lowercase ensures consistency, especially when comparing labels or using them in classification tasks where case sensitivity might lead to mismatches.**"
   ]
  },
  {
   "cell_type": "code",
   "execution_count": 3,
   "id": "a4d152a9-bcfb-4420-90f0-95cb9a780264",
   "metadata": {},
   "outputs": [],
   "source": [
    "# Convert all emotion labels to lowercase\n",
    "df_train[\"Emotion\"] = df_train[\"Emotion\"].str.lower()\n",
    "df_test[\"Emotion\"] = df_test[\"Emotion\"].str.lower()"
   ]
  },
  {
   "cell_type": "code",
   "execution_count": 4,
   "id": "e76e9bd5-d90d-4e5f-87a6-c360588c53f0",
   "metadata": {},
   "outputs": [
    {
     "data": {
      "text/plain": [
       "['joyful', 'neutral', 'powerful', 'mad', 'sad', 'scared', 'peaceful']"
      ]
     },
     "execution_count": 4,
     "metadata": {},
     "output_type": "execute_result"
    }
   ],
   "source": [
    "example_text = \"I thought things would get better with time, but it just keeps hurting more.\"\n",
    "emotion_labels = df_train[\"Emotion\"].unique().tolist()\n",
    "emotion_labels"
   ]
  },
  {
   "cell_type": "code",
   "execution_count": 5,
   "id": "da5396df-7945-4809-85f3-f20875a99618",
   "metadata": {},
   "outputs": [
    {
     "name": "stdout",
     "output_type": "stream",
     "text": [
      "<class 'pandas.core.frame.DataFrame'>\n",
      "RangeIndex: 984 entries, 0 to 983\n",
      "Data columns (total 9 columns):\n",
      " #   Column        Non-Null Count  Dtype \n",
      "---  ------        --------------  ----- \n",
      " 0   Utterance     984 non-null    object\n",
      " 1   Speaker       984 non-null    object\n",
      " 2   Emotion       984 non-null    object\n",
      " 3   Scene_ID      984 non-null    int64 \n",
      " 4   Utterance_ID  984 non-null    int64 \n",
      " 5   Season        984 non-null    int64 \n",
      " 6   Episode       984 non-null    int64 \n",
      " 7   Start_Time    984 non-null    object\n",
      " 8   End_Time      984 non-null    object\n",
      "dtypes: int64(4), object(5)\n",
      "memory usage: 69.3+ KB\n"
     ]
    }
   ],
   "source": [
    "df_test.info()"
   ]
  },
  {
   "cell_type": "code",
   "execution_count": 6,
   "id": "9d94673f-7fcc-4f77-8e71-1552752d0765",
   "metadata": {},
   "outputs": [
    {
     "data": {
      "text/html": [
       "<div>\n",
       "<style scoped>\n",
       "    .dataframe tbody tr th:only-of-type {\n",
       "        vertical-align: middle;\n",
       "    }\n",
       "\n",
       "    .dataframe tbody tr th {\n",
       "        vertical-align: top;\n",
       "    }\n",
       "\n",
       "    .dataframe thead th {\n",
       "        text-align: right;\n",
       "    }\n",
       "</style>\n",
       "<table border=\"1\" class=\"dataframe\">\n",
       "  <thead>\n",
       "    <tr style=\"text-align: right;\">\n",
       "      <th></th>\n",
       "      <th>Utterance</th>\n",
       "      <th>Speaker</th>\n",
       "      <th>Emotion</th>\n",
       "      <th>Scene_ID</th>\n",
       "      <th>Utterance_ID</th>\n",
       "      <th>Season</th>\n",
       "      <th>Episode</th>\n",
       "      <th>Start_Time</th>\n",
       "      <th>End_Time</th>\n",
       "    </tr>\n",
       "  </thead>\n",
       "  <tbody>\n",
       "    <tr>\n",
       "      <th>0</th>\n",
       "      <td>I'm supposed to attach a brackety thing to the...</td>\n",
       "      <td>['Ross Geller']</td>\n",
       "      <td>mad</td>\n",
       "      <td>4</td>\n",
       "      <td>1</td>\n",
       "      <td>1</td>\n",
       "      <td>1</td>\n",
       "      <td>00:09:34.865</td>\n",
       "      <td>00:09:51.423</td>\n",
       "    </tr>\n",
       "    <tr>\n",
       "      <th>1</th>\n",
       "      <td>I'm thinking we've got a bookcase here.</td>\n",
       "      <td>['Joey Tribbiani']</td>\n",
       "      <td>neutral</td>\n",
       "      <td>4</td>\n",
       "      <td>3</td>\n",
       "      <td>1</td>\n",
       "      <td>1</td>\n",
       "      <td>00:09:39.453</td>\n",
       "      <td>00:09:42.247</td>\n",
       "    </tr>\n",
       "    <tr>\n",
       "      <th>2</th>\n",
       "      <td>It's a beautiful thing.</td>\n",
       "      <td>['Chandler Bing']</td>\n",
       "      <td>joyful</td>\n",
       "      <td>4</td>\n",
       "      <td>4</td>\n",
       "      <td>1</td>\n",
       "      <td>1</td>\n",
       "      <td>00:09:43.416</td>\n",
       "      <td>00:09:48.169</td>\n",
       "    </tr>\n",
       "    <tr>\n",
       "      <th>3</th>\n",
       "      <td>What's this?</td>\n",
       "      <td>['Joey Tribbiani']</td>\n",
       "      <td>neutral</td>\n",
       "      <td>4</td>\n",
       "      <td>5</td>\n",
       "      <td>1</td>\n",
       "      <td>1</td>\n",
       "      <td>00:09:48.337</td>\n",
       "      <td>00:09:51.423</td>\n",
       "    </tr>\n",
       "    <tr>\n",
       "      <th>4</th>\n",
       "      <td>Which goes where?</td>\n",
       "      <td>['Joey Tribbiani']</td>\n",
       "      <td>neutral</td>\n",
       "      <td>4</td>\n",
       "      <td>7</td>\n",
       "      <td>1</td>\n",
       "      <td>1</td>\n",
       "      <td>00:09:53.009</td>\n",
       "      <td>00:09:57.262</td>\n",
       "    </tr>\n",
       "  </tbody>\n",
       "</table>\n",
       "</div>"
      ],
      "text/plain": [
       "                                           Utterance             Speaker  \\\n",
       "0  I'm supposed to attach a brackety thing to the...     ['Ross Geller']   \n",
       "1            I'm thinking we've got a bookcase here.  ['Joey Tribbiani']   \n",
       "2                            It's a beautiful thing.   ['Chandler Bing']   \n",
       "3                                       What's this?  ['Joey Tribbiani']   \n",
       "4                                  Which goes where?  ['Joey Tribbiani']   \n",
       "\n",
       "   Emotion  Scene_ID  Utterance_ID  Season  Episode    Start_Time  \\\n",
       "0      mad         4             1       1        1  00:09:34.865   \n",
       "1  neutral         4             3       1        1  00:09:39.453   \n",
       "2   joyful         4             4       1        1  00:09:43.416   \n",
       "3  neutral         4             5       1        1  00:09:48.337   \n",
       "4  neutral         4             7       1        1  00:09:53.009   \n",
       "\n",
       "       End_Time  \n",
       "0  00:09:51.423  \n",
       "1  00:09:42.247  \n",
       "2  00:09:48.169  \n",
       "3  00:09:51.423  \n",
       "4  00:09:57.262  "
      ]
     },
     "execution_count": 6,
     "metadata": {},
     "output_type": "execute_result"
    }
   ],
   "source": [
    "df_test.head()"
   ]
  },
  {
   "cell_type": "markdown",
   "id": "06ecf32b-b2c8-41da-91c5-c2e8cc6a4ac9",
   "metadata": {},
   "source": [
    "### 📊 Emotion Distribution in the EmoryNLP Training Set\n",
    "\n",
    "Before training any models, I explore the class distribution of emotions in the EmoryNLP training dataset. \n",
    "    \n",
    "To visualize this, I create a **pie chart** showing the relative frequency of each emotion label, with percentage values displayed in the legend. This provides an intuitive overview of the emotional makeup of the dataset and helps inform decisions regarding model evaluation and potential rebalancing strategies.\n"
   ]
  },
  {
   "cell_type": "code",
   "execution_count": 7,
   "id": "1646c827-c13d-45fc-a76d-a486d51a3c4b",
   "metadata": {},
   "outputs": [
    {
     "data": {
      "text/plain": [
       "Emotion\n",
       "neutral     2485\n",
       "joyful      1677\n",
       "scared       941\n",
       "mad          785\n",
       "peaceful     638\n",
       "powerful     551\n",
       "sad          474\n",
       "Name: count, dtype: int64"
      ]
     },
     "execution_count": 7,
     "metadata": {},
     "output_type": "execute_result"
    }
   ],
   "source": [
    "df_train[\"Emotion\"].value_counts()"
   ]
  },
  {
   "cell_type": "code",
   "execution_count": 8,
   "id": "662c7f99-439c-4a33-a8d3-91d45a034f1d",
   "metadata": {},
   "outputs": [
    {
     "data": {
      "application/vnd.plotly.v1+json": {
       "config": {
        "plotlyServerURL": "https://plot.ly"
       },
       "data": [
        {
         "hole": 0.3,
         "labels": [
          "neutral (32.91%)",
          "joyful (22.21%)",
          "scared (12.46%)",
          "mad (10.40%)",
          "peaceful (8.45%)",
          "powerful (7.30%)",
          "sad (6.28%)"
         ],
         "textinfo": "none",
         "type": "pie",
         "values": [
          2485,
          1677,
          941,
          785,
          638,
          551,
          474
         ]
        }
       ],
       "layout": {
        "height": 450,
        "legend": {
         "font": {
          "size": 12
         },
         "orientation": "v",
         "x": 1.02,
         "xanchor": "left",
         "y": 1,
         "yanchor": "top"
        },
        "margin": {
         "b": 20,
         "l": 20,
         "r": 20,
         "t": 50
        },
        "template": {
         "data": {
          "bar": [
           {
            "error_x": {
             "color": "#2a3f5f"
            },
            "error_y": {
             "color": "#2a3f5f"
            },
            "marker": {
             "line": {
              "color": "#E5ECF6",
              "width": 0.5
             },
             "pattern": {
              "fillmode": "overlay",
              "size": 10,
              "solidity": 0.2
             }
            },
            "type": "bar"
           }
          ],
          "barpolar": [
           {
            "marker": {
             "line": {
              "color": "#E5ECF6",
              "width": 0.5
             },
             "pattern": {
              "fillmode": "overlay",
              "size": 10,
              "solidity": 0.2
             }
            },
            "type": "barpolar"
           }
          ],
          "carpet": [
           {
            "aaxis": {
             "endlinecolor": "#2a3f5f",
             "gridcolor": "white",
             "linecolor": "white",
             "minorgridcolor": "white",
             "startlinecolor": "#2a3f5f"
            },
            "baxis": {
             "endlinecolor": "#2a3f5f",
             "gridcolor": "white",
             "linecolor": "white",
             "minorgridcolor": "white",
             "startlinecolor": "#2a3f5f"
            },
            "type": "carpet"
           }
          ],
          "choropleth": [
           {
            "colorbar": {
             "outlinewidth": 0,
             "ticks": ""
            },
            "type": "choropleth"
           }
          ],
          "contour": [
           {
            "colorbar": {
             "outlinewidth": 0,
             "ticks": ""
            },
            "colorscale": [
             [
              0,
              "#0d0887"
             ],
             [
              0.1111111111111111,
              "#46039f"
             ],
             [
              0.2222222222222222,
              "#7201a8"
             ],
             [
              0.3333333333333333,
              "#9c179e"
             ],
             [
              0.4444444444444444,
              "#bd3786"
             ],
             [
              0.5555555555555556,
              "#d8576b"
             ],
             [
              0.6666666666666666,
              "#ed7953"
             ],
             [
              0.7777777777777778,
              "#fb9f3a"
             ],
             [
              0.8888888888888888,
              "#fdca26"
             ],
             [
              1,
              "#f0f921"
             ]
            ],
            "type": "contour"
           }
          ],
          "contourcarpet": [
           {
            "colorbar": {
             "outlinewidth": 0,
             "ticks": ""
            },
            "type": "contourcarpet"
           }
          ],
          "heatmap": [
           {
            "colorbar": {
             "outlinewidth": 0,
             "ticks": ""
            },
            "colorscale": [
             [
              0,
              "#0d0887"
             ],
             [
              0.1111111111111111,
              "#46039f"
             ],
             [
              0.2222222222222222,
              "#7201a8"
             ],
             [
              0.3333333333333333,
              "#9c179e"
             ],
             [
              0.4444444444444444,
              "#bd3786"
             ],
             [
              0.5555555555555556,
              "#d8576b"
             ],
             [
              0.6666666666666666,
              "#ed7953"
             ],
             [
              0.7777777777777778,
              "#fb9f3a"
             ],
             [
              0.8888888888888888,
              "#fdca26"
             ],
             [
              1,
              "#f0f921"
             ]
            ],
            "type": "heatmap"
           }
          ],
          "histogram": [
           {
            "marker": {
             "pattern": {
              "fillmode": "overlay",
              "size": 10,
              "solidity": 0.2
             }
            },
            "type": "histogram"
           }
          ],
          "histogram2d": [
           {
            "colorbar": {
             "outlinewidth": 0,
             "ticks": ""
            },
            "colorscale": [
             [
              0,
              "#0d0887"
             ],
             [
              0.1111111111111111,
              "#46039f"
             ],
             [
              0.2222222222222222,
              "#7201a8"
             ],
             [
              0.3333333333333333,
              "#9c179e"
             ],
             [
              0.4444444444444444,
              "#bd3786"
             ],
             [
              0.5555555555555556,
              "#d8576b"
             ],
             [
              0.6666666666666666,
              "#ed7953"
             ],
             [
              0.7777777777777778,
              "#fb9f3a"
             ],
             [
              0.8888888888888888,
              "#fdca26"
             ],
             [
              1,
              "#f0f921"
             ]
            ],
            "type": "histogram2d"
           }
          ],
          "histogram2dcontour": [
           {
            "colorbar": {
             "outlinewidth": 0,
             "ticks": ""
            },
            "colorscale": [
             [
              0,
              "#0d0887"
             ],
             [
              0.1111111111111111,
              "#46039f"
             ],
             [
              0.2222222222222222,
              "#7201a8"
             ],
             [
              0.3333333333333333,
              "#9c179e"
             ],
             [
              0.4444444444444444,
              "#bd3786"
             ],
             [
              0.5555555555555556,
              "#d8576b"
             ],
             [
              0.6666666666666666,
              "#ed7953"
             ],
             [
              0.7777777777777778,
              "#fb9f3a"
             ],
             [
              0.8888888888888888,
              "#fdca26"
             ],
             [
              1,
              "#f0f921"
             ]
            ],
            "type": "histogram2dcontour"
           }
          ],
          "mesh3d": [
           {
            "colorbar": {
             "outlinewidth": 0,
             "ticks": ""
            },
            "type": "mesh3d"
           }
          ],
          "parcoords": [
           {
            "line": {
             "colorbar": {
              "outlinewidth": 0,
              "ticks": ""
             }
            },
            "type": "parcoords"
           }
          ],
          "pie": [
           {
            "automargin": true,
            "type": "pie"
           }
          ],
          "scatter": [
           {
            "fillpattern": {
             "fillmode": "overlay",
             "size": 10,
             "solidity": 0.2
            },
            "type": "scatter"
           }
          ],
          "scatter3d": [
           {
            "line": {
             "colorbar": {
              "outlinewidth": 0,
              "ticks": ""
             }
            },
            "marker": {
             "colorbar": {
              "outlinewidth": 0,
              "ticks": ""
             }
            },
            "type": "scatter3d"
           }
          ],
          "scattercarpet": [
           {
            "marker": {
             "colorbar": {
              "outlinewidth": 0,
              "ticks": ""
             }
            },
            "type": "scattercarpet"
           }
          ],
          "scattergeo": [
           {
            "marker": {
             "colorbar": {
              "outlinewidth": 0,
              "ticks": ""
             }
            },
            "type": "scattergeo"
           }
          ],
          "scattergl": [
           {
            "marker": {
             "colorbar": {
              "outlinewidth": 0,
              "ticks": ""
             }
            },
            "type": "scattergl"
           }
          ],
          "scattermap": [
           {
            "marker": {
             "colorbar": {
              "outlinewidth": 0,
              "ticks": ""
             }
            },
            "type": "scattermap"
           }
          ],
          "scattermapbox": [
           {
            "marker": {
             "colorbar": {
              "outlinewidth": 0,
              "ticks": ""
             }
            },
            "type": "scattermapbox"
           }
          ],
          "scatterpolar": [
           {
            "marker": {
             "colorbar": {
              "outlinewidth": 0,
              "ticks": ""
             }
            },
            "type": "scatterpolar"
           }
          ],
          "scatterpolargl": [
           {
            "marker": {
             "colorbar": {
              "outlinewidth": 0,
              "ticks": ""
             }
            },
            "type": "scatterpolargl"
           }
          ],
          "scatterternary": [
           {
            "marker": {
             "colorbar": {
              "outlinewidth": 0,
              "ticks": ""
             }
            },
            "type": "scatterternary"
           }
          ],
          "surface": [
           {
            "colorbar": {
             "outlinewidth": 0,
             "ticks": ""
            },
            "colorscale": [
             [
              0,
              "#0d0887"
             ],
             [
              0.1111111111111111,
              "#46039f"
             ],
             [
              0.2222222222222222,
              "#7201a8"
             ],
             [
              0.3333333333333333,
              "#9c179e"
             ],
             [
              0.4444444444444444,
              "#bd3786"
             ],
             [
              0.5555555555555556,
              "#d8576b"
             ],
             [
              0.6666666666666666,
              "#ed7953"
             ],
             [
              0.7777777777777778,
              "#fb9f3a"
             ],
             [
              0.8888888888888888,
              "#fdca26"
             ],
             [
              1,
              "#f0f921"
             ]
            ],
            "type": "surface"
           }
          ],
          "table": [
           {
            "cells": {
             "fill": {
              "color": "#EBF0F8"
             },
             "line": {
              "color": "white"
             }
            },
            "header": {
             "fill": {
              "color": "#C8D4E3"
             },
             "line": {
              "color": "white"
             }
            },
            "type": "table"
           }
          ]
         },
         "layout": {
          "annotationdefaults": {
           "arrowcolor": "#2a3f5f",
           "arrowhead": 0,
           "arrowwidth": 1
          },
          "autotypenumbers": "strict",
          "coloraxis": {
           "colorbar": {
            "outlinewidth": 0,
            "ticks": ""
           }
          },
          "colorscale": {
           "diverging": [
            [
             0,
             "#8e0152"
            ],
            [
             0.1,
             "#c51b7d"
            ],
            [
             0.2,
             "#de77ae"
            ],
            [
             0.3,
             "#f1b6da"
            ],
            [
             0.4,
             "#fde0ef"
            ],
            [
             0.5,
             "#f7f7f7"
            ],
            [
             0.6,
             "#e6f5d0"
            ],
            [
             0.7,
             "#b8e186"
            ],
            [
             0.8,
             "#7fbc41"
            ],
            [
             0.9,
             "#4d9221"
            ],
            [
             1,
             "#276419"
            ]
           ],
           "sequential": [
            [
             0,
             "#0d0887"
            ],
            [
             0.1111111111111111,
             "#46039f"
            ],
            [
             0.2222222222222222,
             "#7201a8"
            ],
            [
             0.3333333333333333,
             "#9c179e"
            ],
            [
             0.4444444444444444,
             "#bd3786"
            ],
            [
             0.5555555555555556,
             "#d8576b"
            ],
            [
             0.6666666666666666,
             "#ed7953"
            ],
            [
             0.7777777777777778,
             "#fb9f3a"
            ],
            [
             0.8888888888888888,
             "#fdca26"
            ],
            [
             1,
             "#f0f921"
            ]
           ],
           "sequentialminus": [
            [
             0,
             "#0d0887"
            ],
            [
             0.1111111111111111,
             "#46039f"
            ],
            [
             0.2222222222222222,
             "#7201a8"
            ],
            [
             0.3333333333333333,
             "#9c179e"
            ],
            [
             0.4444444444444444,
             "#bd3786"
            ],
            [
             0.5555555555555556,
             "#d8576b"
            ],
            [
             0.6666666666666666,
             "#ed7953"
            ],
            [
             0.7777777777777778,
             "#fb9f3a"
            ],
            [
             0.8888888888888888,
             "#fdca26"
            ],
            [
             1,
             "#f0f921"
            ]
           ]
          },
          "colorway": [
           "#636efa",
           "#EF553B",
           "#00cc96",
           "#ab63fa",
           "#FFA15A",
           "#19d3f3",
           "#FF6692",
           "#B6E880",
           "#FF97FF",
           "#FECB52"
          ],
          "font": {
           "color": "#2a3f5f"
          },
          "geo": {
           "bgcolor": "white",
           "lakecolor": "white",
           "landcolor": "#E5ECF6",
           "showlakes": true,
           "showland": true,
           "subunitcolor": "white"
          },
          "hoverlabel": {
           "align": "left"
          },
          "hovermode": "closest",
          "mapbox": {
           "style": "light"
          },
          "paper_bgcolor": "white",
          "plot_bgcolor": "#E5ECF6",
          "polar": {
           "angularaxis": {
            "gridcolor": "white",
            "linecolor": "white",
            "ticks": ""
           },
           "bgcolor": "#E5ECF6",
           "radialaxis": {
            "gridcolor": "white",
            "linecolor": "white",
            "ticks": ""
           }
          },
          "scene": {
           "xaxis": {
            "backgroundcolor": "#E5ECF6",
            "gridcolor": "white",
            "gridwidth": 2,
            "linecolor": "white",
            "showbackground": true,
            "ticks": "",
            "zerolinecolor": "white"
           },
           "yaxis": {
            "backgroundcolor": "#E5ECF6",
            "gridcolor": "white",
            "gridwidth": 2,
            "linecolor": "white",
            "showbackground": true,
            "ticks": "",
            "zerolinecolor": "white"
           },
           "zaxis": {
            "backgroundcolor": "#E5ECF6",
            "gridcolor": "white",
            "gridwidth": 2,
            "linecolor": "white",
            "showbackground": true,
            "ticks": "",
            "zerolinecolor": "white"
           }
          },
          "shapedefaults": {
           "line": {
            "color": "#2a3f5f"
           }
          },
          "ternary": {
           "aaxis": {
            "gridcolor": "white",
            "linecolor": "white",
            "ticks": ""
           },
           "baxis": {
            "gridcolor": "white",
            "linecolor": "white",
            "ticks": ""
           },
           "bgcolor": "#E5ECF6",
           "caxis": {
            "gridcolor": "white",
            "linecolor": "white",
            "ticks": ""
           }
          },
          "title": {
           "x": 0.05
          },
          "xaxis": {
           "automargin": true,
           "gridcolor": "white",
           "linecolor": "white",
           "ticks": "",
           "title": {
            "standoff": 15
           },
           "zerolinecolor": "white",
           "zerolinewidth": 2
          },
          "yaxis": {
           "automargin": true,
           "gridcolor": "white",
           "linecolor": "white",
           "ticks": "",
           "title": {
            "standoff": 15
           },
           "zerolinecolor": "white",
           "zerolinewidth": 2
          }
         }
        },
        "title": {
         "text": "Emotion Distribution in EmoryNLP Dataset",
         "x": 0.5
        },
        "width": 600
       }
      },
      "image/png": "[encoded data removed]"
     },
     "metadata": {},
     "output_type": "display_data"
    }
   ],
   "source": [
    "# Get counts and percentages\n",
    "df_value_counts = df_train[\"Emotion\"].value_counts()\n",
    "labels = list(df_value_counts.keys())\n",
    "sizes = df_value_counts.tolist()\n",
    "\n",
    "# Calculate formatted labels: \"emotion (xx.xx%)\"\n",
    "total = sum(sizes)\n",
    "legend_labels = [f\"{label} ({(count/total)*100:.2f}%)\" for label, count in zip(labels, sizes)]\n",
    "\n",
    "# Create pie chart\n",
    "fig = go.Figure(\n",
    "    data=[go.Pie(\n",
    "        labels=legend_labels,     # legend-style labels\n",
    "        values=sizes,\n",
    "        textinfo='none',          # remove text from inside the pie\n",
    "        hole=0.3\n",
    "    )]\n",
    ")\n",
    "\n",
    "# Update layout: legend in top-right\n",
    "fig.update_layout(\n",
    "    title=\"Emotion Distribution in EmoryNLP Dataset\",\n",
    "    width=600,\n",
    "    height=450,\n",
    "    margin=dict(l=20, r=20, t=50, b=20),\n",
    "    title_x=0.5,\n",
    "    legend=dict(\n",
    "        orientation=\"v\",\n",
    "        x=1.02,\n",
    "        y=1,\n",
    "        xanchor=\"left\",\n",
    "        yanchor=\"top\",\n",
    "        font=dict(size=12)\n",
    "    )\n",
    ")\n",
    "\n",
    "fig.show()\n"
   ]
  },
  {
   "cell_type": "markdown",
   "id": "a9365a11-95b1-4da7-8302-607e172a6915",
   "metadata": {},
   "source": [
    "**To ensure faster evaluation and reduce API costs during large language model inference, I limit the EmoryNLP test set to the first 500 examples.**"
   ]
  },
  {
   "cell_type": "code",
   "execution_count": 9,
   "id": "f04c840e-bd38-4f48-a8ca-830877183c07",
   "metadata": {},
   "outputs": [
    {
     "name": "stdout",
     "output_type": "stream",
     "text": [
      "test size is reduced from 984 to 500\n"
     ]
    }
   ],
   "source": [
    "test_size = 500\n",
    "print(f\"test size is reduced from {len(df_test)} to {test_size}\")\n",
    "df_test = df_test[:test_size]"
   ]
  },
  {
   "cell_type": "markdown",
   "id": "ca627c0b-5215-42b0-a0c3-ad41d02de19e",
   "metadata": {},
   "source": [
    "**To uniquely identify conversations, I assign a Dialogue_ID to each group of utterances that belong to the same scene, season, and episode. This helps in reconstructing dialogue history for context-aware emotion classification.**"
   ]
  },
  {
   "cell_type": "code",
   "execution_count": 10,
   "id": "aa7f7251-bd84-44f0-a8c6-320f628c5406",
   "metadata": {},
   "outputs": [],
   "source": [
    "# Create a new Dialogue_ID column by grouping on (Scene_ID, Season, Episode)\n",
    "df_test[\"Dialogue_ID\"] = df_test.groupby([\"Scene_ID\", \"Season\", \"Episode\"]).ngroup() + 1"
   ]
  },
  {
   "cell_type": "markdown",
   "id": "4383982d-3982-47af-a8fb-7dae740b00e8",
   "metadata": {},
   "source": [
    "**To remove the square brackets and quotes (i.e., convert ['Monica Geller'] → Monica Geller) from the Speaker column, you can use the following code:**"
   ]
  },
  {
   "cell_type": "code",
   "execution_count": 11,
   "id": "b837c8af-fb30-4db5-bfd4-f23bfd4c2989",
   "metadata": {},
   "outputs": [],
   "source": [
    "# Remove square brackets and quotes from speaker strings\n",
    "df_test[\"Speaker\"] = df_test[\"Speaker\"].str.strip(\"[]\").str.replace(\"'\", \"\").str.strip()"
   ]
  },
  {
   "cell_type": "code",
   "execution_count": 12,
   "id": "7196ae95-e70b-43fe-b2d5-1f160606368e",
   "metadata": {},
   "outputs": [
    {
     "data": {
      "text/html": [
       "<div>\n",
       "<style scoped>\n",
       "    .dataframe tbody tr th:only-of-type {\n",
       "        vertical-align: middle;\n",
       "    }\n",
       "\n",
       "    .dataframe tbody tr th {\n",
       "        vertical-align: top;\n",
       "    }\n",
       "\n",
       "    .dataframe thead th {\n",
       "        text-align: right;\n",
       "    }\n",
       "</style>\n",
       "<table border=\"1\" class=\"dataframe\">\n",
       "  <thead>\n",
       "    <tr style=\"text-align: right;\">\n",
       "      <th></th>\n",
       "      <th>Utterance</th>\n",
       "      <th>Speaker</th>\n",
       "      <th>Emotion</th>\n",
       "      <th>Scene_ID</th>\n",
       "      <th>Utterance_ID</th>\n",
       "      <th>Season</th>\n",
       "      <th>Episode</th>\n",
       "      <th>Start_Time</th>\n",
       "      <th>End_Time</th>\n",
       "      <th>Dialogue_ID</th>\n",
       "    </tr>\n",
       "  </thead>\n",
       "  <tbody>\n",
       "    <tr>\n",
       "      <th>0</th>\n",
       "      <td>I'm supposed to attach a brackety thing to the...</td>\n",
       "      <td>Ross Geller</td>\n",
       "      <td>mad</td>\n",
       "      <td>4</td>\n",
       "      <td>1</td>\n",
       "      <td>1</td>\n",
       "      <td>1</td>\n",
       "      <td>00:09:34.865</td>\n",
       "      <td>00:09:51.423</td>\n",
       "      <td>10</td>\n",
       "    </tr>\n",
       "    <tr>\n",
       "      <th>1</th>\n",
       "      <td>I'm thinking we've got a bookcase here.</td>\n",
       "      <td>Joey Tribbiani</td>\n",
       "      <td>neutral</td>\n",
       "      <td>4</td>\n",
       "      <td>3</td>\n",
       "      <td>1</td>\n",
       "      <td>1</td>\n",
       "      <td>00:09:39.453</td>\n",
       "      <td>00:09:42.247</td>\n",
       "      <td>10</td>\n",
       "    </tr>\n",
       "    <tr>\n",
       "      <th>2</th>\n",
       "      <td>It's a beautiful thing.</td>\n",
       "      <td>Chandler Bing</td>\n",
       "      <td>joyful</td>\n",
       "      <td>4</td>\n",
       "      <td>4</td>\n",
       "      <td>1</td>\n",
       "      <td>1</td>\n",
       "      <td>00:09:43.416</td>\n",
       "      <td>00:09:48.169</td>\n",
       "      <td>10</td>\n",
       "    </tr>\n",
       "    <tr>\n",
       "      <th>3</th>\n",
       "      <td>What's this?</td>\n",
       "      <td>Joey Tribbiani</td>\n",
       "      <td>neutral</td>\n",
       "      <td>4</td>\n",
       "      <td>5</td>\n",
       "      <td>1</td>\n",
       "      <td>1</td>\n",
       "      <td>00:09:48.337</td>\n",
       "      <td>00:09:51.423</td>\n",
       "      <td>10</td>\n",
       "    </tr>\n",
       "    <tr>\n",
       "      <th>4</th>\n",
       "      <td>Which goes where?</td>\n",
       "      <td>Joey Tribbiani</td>\n",
       "      <td>neutral</td>\n",
       "      <td>4</td>\n",
       "      <td>7</td>\n",
       "      <td>1</td>\n",
       "      <td>1</td>\n",
       "      <td>00:09:53.009</td>\n",
       "      <td>00:09:57.262</td>\n",
       "      <td>10</td>\n",
       "    </tr>\n",
       "  </tbody>\n",
       "</table>\n",
       "</div>"
      ],
      "text/plain": [
       "                                           Utterance         Speaker  Emotion  \\\n",
       "0  I'm supposed to attach a brackety thing to the...     Ross Geller      mad   \n",
       "1            I'm thinking we've got a bookcase here.  Joey Tribbiani  neutral   \n",
       "2                            It's a beautiful thing.   Chandler Bing   joyful   \n",
       "3                                       What's this?  Joey Tribbiani  neutral   \n",
       "4                                  Which goes where?  Joey Tribbiani  neutral   \n",
       "\n",
       "   Scene_ID  Utterance_ID  Season  Episode    Start_Time      End_Time  \\\n",
       "0         4             1       1        1  00:09:34.865  00:09:51.423   \n",
       "1         4             3       1        1  00:09:39.453  00:09:42.247   \n",
       "2         4             4       1        1  00:09:43.416  00:09:48.169   \n",
       "3         4             5       1        1  00:09:48.337  00:09:51.423   \n",
       "4         4             7       1        1  00:09:53.009  00:09:57.262   \n",
       "\n",
       "   Dialogue_ID  \n",
       "0           10  \n",
       "1           10  \n",
       "2           10  \n",
       "3           10  \n",
       "4           10  "
      ]
     },
     "execution_count": 12,
     "metadata": {},
     "output_type": "execute_result"
    }
   ],
   "source": [
    "df_test.head()"
   ]
  },
  {
   "cell_type": "markdown",
   "id": "b3ae6963-3177-4c21-b45b-15fc5803703f",
   "metadata": {},
   "source": [
    "# Evaluation"
   ]
  },
  {
   "cell_type": "code",
   "execution_count": 13,
   "id": "26b9ef6f-c821-4cd6-9051-915faa0dcb5c",
   "metadata": {},
   "outputs": [],
   "source": [
    "model_scores = {} # save weighted f1 scores for each model"
   ]
  },
  {
   "cell_type": "markdown",
   "id": "7f39f63a-1714-4a7a-a989-99732591977d",
   "metadata": {},
   "source": [
    "## 🧪 Supervised Emotion Classification with Traditional ML Models\n",
    "\n",
    "In this section, I apply three traditional supervised learning models—**Logistic Regression**, **Support Vector Classifier (SVC)**, and **Random Forest Classifier**—to the EmoryNLP dataset for text-based emotion classification.\n",
    "\n",
    "First, I preprocess the training utterances by removing user handles and stopwords. Then, I use the `CountVectorizer` to convert the cleaned text into numerical feature vectors. These vectors serve as input to the classifiers.\n",
    "\n",
    "Each model is wrapped in a `scikit-learn` pipeline for streamlined preprocessing and training. After training, I evaluate the models on the test split of the EmoryNLP dataset using standard classification metrics (precision, recall, and F1-score).\n"
   ]
  },
  {
   "cell_type": "markdown",
   "id": "f48c0cf2-8fc2-4a9c-baa8-32dc20b880e7",
   "metadata": {},
   "source": [
    "Preprocess the utterances and assign the cleaned utterances and corresponding emotions to x_train and y_train, respectively, for training."
   ]
  },
  {
   "cell_type": "code",
   "execution_count": 14,
   "id": "ccf5b99c-0d99-4e0e-bc4c-43dc78043647",
   "metadata": {},
   "outputs": [],
   "source": [
    "x_train, y_train = df_train[\"Utterance\"].apply(nfx.remove_userhandles).apply(nfx.remove_stopwords), df_train['Emotion']"
   ]
  },
  {
   "cell_type": "markdown",
   "id": "e25690a9-1e12-4eb1-a522-7e98c6129b68",
   "metadata": {},
   "source": [
    "### Logistic Regression"
   ]
  },
  {
   "cell_type": "code",
   "execution_count": 15,
   "id": "98ab49d6-1474-4e55-ba53-c45c39138cc6",
   "metadata": {},
   "outputs": [
    {
     "name": "stdout",
     "output_type": "stream",
     "text": [
      "Logistic regrestion model is ready to use!\n"
     ]
    }
   ],
   "source": [
    "pipe_lr = Pipeline(steps=[('cv', CountVectorizer()), ('lr', LogisticRegression(max_iter=100))])\n",
    "pipe_lr.fit(x_train, y_train)\n",
    "print(\"Logistic regrestion model is ready to use!\")"
   ]
  },
  {
   "cell_type": "code",
   "execution_count": 16,
   "id": "79bca585-52da-4140-9a44-79120a60e531",
   "metadata": {},
   "outputs": [],
   "source": [
    "lr_predictions = pipe_lr.predict(df_test[\"Utterance\"].values)"
   ]
  },
  {
   "cell_type": "code",
   "execution_count": 17,
   "id": "88f25dfa-c09b-462c-9f31-24506436246e",
   "metadata": {},
   "outputs": [
    {
     "name": "stdout",
     "output_type": "stream",
     "text": [
      "Evaluation results on the EmoryNLP dataset using Logistic Regression:\n",
      "\n",
      "              precision    recall  f1-score   support\n",
      "\n",
      "      joyful       0.41      0.38      0.39       102\n",
      "         mad       0.24      0.20      0.22        49\n",
      "     neutral       0.43      0.61      0.51       165\n",
      "    peaceful       0.19      0.09      0.12        43\n",
      "    powerful       0.00      0.00      0.00        42\n",
      "         sad       0.25      0.08      0.12        37\n",
      "      scared       0.21      0.31      0.25        62\n",
      "\n",
      "    accuracy                           0.35       500\n",
      "   macro avg       0.25      0.24      0.23       500\n",
      "weighted avg       0.31      0.35      0.32       500\n",
      "\n"
     ]
    }
   ],
   "source": [
    "print(\"Evaluation results on the EmoryNLP dataset using Logistic Regression:\\n\")\n",
    "print(classification_report(df_test[\"Emotion\"], lr_predictions, zero_division=0))\n",
    "model_scores[\"Logistic Regression\"] = f1_score(df_test[\"Emotion\"], lr_predictions, average='weighted', zero_division=0)"
   ]
  },
  {
   "cell_type": "markdown",
   "id": "93357b23-049a-4f46-b5ca-532cf2f938e2",
   "metadata": {},
   "source": [
    "### SVC"
   ]
  },
  {
   "cell_type": "code",
   "execution_count": 18,
   "id": "c60e5ee4-da62-49e6-81eb-5ca987db3efa",
   "metadata": {},
   "outputs": [
    {
     "name": "stdout",
     "output_type": "stream",
     "text": [
      "SVC model is ready to use!\n"
     ]
    }
   ],
   "source": [
    "pipe_svc = Pipeline(steps=[('cv', CountVectorizer()), ('svc', SVC(kernel='rbf', C=10))])\n",
    "pipe_svc.fit(x_train, y_train)\n",
    "print(\"SVC model is ready to use!\")"
   ]
  },
  {
   "cell_type": "code",
   "execution_count": 19,
   "id": "f2f7acf5-d2a5-4c51-85d5-5d9f6f6a29ef",
   "metadata": {},
   "outputs": [],
   "source": [
    "svc_predictions = pipe_svc.predict(df_test[\"Utterance\"].values)"
   ]
  },
  {
   "cell_type": "code",
   "execution_count": 20,
   "id": "f83fb89a-d312-4231-814b-b13e62e5a0aa",
   "metadata": {},
   "outputs": [
    {
     "name": "stdout",
     "output_type": "stream",
     "text": [
      "Evaluation results on the EmoryNLP dataset using SVC:\n",
      "\n",
      "              precision    recall  f1-score   support\n",
      "\n",
      "      joyful       0.28      0.56      0.38       102\n",
      "         mad       0.17      0.14      0.15        49\n",
      "     neutral       0.50      0.52      0.51       165\n",
      "    peaceful       0.38      0.14      0.20        43\n",
      "    powerful       0.00      0.00      0.00        42\n",
      "         sad       0.31      0.11      0.16        37\n",
      "      scared       0.23      0.18      0.20        62\n",
      "\n",
      "    accuracy                           0.34       500\n",
      "   macro avg       0.27      0.23      0.23       500\n",
      "weighted avg       0.32      0.34      0.31       500\n",
      "\n"
     ]
    }
   ],
   "source": [
    "print(\"Evaluation results on the EmoryNLP dataset using SVC:\\n\")\n",
    "print(classification_report(df_test[\"Emotion\"], svc_predictions, zero_division=0))\n",
    "model_scores[\"SVC\"] = f1_score(df_test[\"Emotion\"], svc_predictions, average='weighted', zero_division=0)"
   ]
  },
  {
   "cell_type": "markdown",
   "id": "2484433c-e461-4e9d-849e-93f8925dafb3",
   "metadata": {},
   "source": [
    "### Random Forest Classifier"
   ]
  },
  {
   "cell_type": "code",
   "execution_count": 21,
   "id": "1ae52215-b874-46cc-afb5-c3eee2965920",
   "metadata": {},
   "outputs": [
    {
     "name": "stdout",
     "output_type": "stream",
     "text": [
      "Random Forest Classifier model is ready to use!\n"
     ]
    }
   ],
   "source": [
    "pipe_rf = Pipeline(steps=[('cv', CountVectorizer()), ('rf', RandomForestClassifier(n_estimators=10))])\n",
    "pipe_rf.fit(x_train, y_train)\n",
    "print(\"Random Forest Classifier model is ready to use!\")"
   ]
  },
  {
   "cell_type": "code",
   "execution_count": 22,
   "id": "bce39392-666f-47a5-aabc-7dd1e1d34737",
   "metadata": {},
   "outputs": [],
   "source": [
    "rf_predictions = pipe_rf.predict(df_test[\"Utterance\"].values)"
   ]
  },
  {
   "cell_type": "code",
   "execution_count": 23,
   "id": "b889b8ef-f618-4425-8060-ffd7e3b3ba82",
   "metadata": {},
   "outputs": [
    {
     "name": "stdout",
     "output_type": "stream",
     "text": [
      "Evaluation results on the EmoryNLP dataset using Random Forest Classifier:\n",
      "\n",
      "              precision    recall  f1-score   support\n",
      "\n",
      "      joyful       0.31      0.28      0.30       102\n",
      "         mad       0.14      0.18      0.16        49\n",
      "     neutral       0.37      0.48      0.42       165\n",
      "    peaceful       0.22      0.14      0.17        43\n",
      "    powerful       0.00      0.00      0.00        42\n",
      "         sad       0.18      0.11      0.14        37\n",
      "      scared       0.19      0.18      0.18        62\n",
      "\n",
      "    accuracy                           0.28       500\n",
      "   macro avg       0.20      0.20      0.19       500\n",
      "weighted avg       0.25      0.28      0.26       500\n",
      "\n"
     ]
    }
   ],
   "source": [
    "print(\"Evaluation results on the EmoryNLP dataset using Random Forest Classifier:\\n\")\n",
    "print(classification_report(df_test[\"Emotion\"], rf_predictions, zero_division=0))\n",
    "model_scores[\"Random Forest Classifier\"] = f1_score(df_test[\"Emotion\"], rf_predictions, average='weighted', zero_division=0)"
   ]
  },
  {
   "cell_type": "code",
   "execution_count": 24,
   "id": "247afec1-f9eb-4418-a20c-27ad9c2c74ee",
   "metadata": {},
   "outputs": [
    {
     "name": "stdout",
     "output_type": "stream",
     "text": [
      "Weighted F1-score: 0.2612\n"
     ]
    }
   ],
   "source": [
    "weighted_f1 = f1_score(df_test[\"Emotion\"], rf_predictions, average='weighted', zero_division=0)\n",
    "print(f\"Weighted F1-score: {weighted_f1:.4f}\")"
   ]
  },
  {
   "cell_type": "markdown",
   "id": "50fe11a1-f941-4f84-bf12-b90ead145cee",
   "metadata": {},
   "source": [
    "## 🔍 Zero-Shot Emotion Classification with `facebook/bart-large-mnli`\n",
    "To evaluate an alternative approach without supervised training, I use the [`facebook/bart-large-mnli`](https://huggingface.co/facebook/bart-large-mnli) model from Hugging Face for **zero-shot classification**. This model allows emotion classification by comparing each utterance directly against a set of candidate labels, without requiring task-specific fine-tuning.\n",
    "\n",
    "For each utterance, the model ranks the candidate emotions based on how well they match the text. The top-ranked label is selected as the predicted emotion."
   ]
  },
  {
   "cell_type": "code",
   "execution_count": 25,
   "id": "1f2219c9-b5a1-4837-b3ba-fd9386822576",
   "metadata": {},
   "outputs": [
    {
     "name": "stderr",
     "output_type": "stream",
     "text": [
      "Device set to use mps:0\n"
     ]
    }
   ],
   "source": [
    "zero_shot_classifier = pipeline(\"zero-shot-classification\", model=\"facebook/bart-large-mnli\")"
   ]
  },
  {
   "cell_type": "code",
   "execution_count": 26,
   "id": "020ee098-43ee-471a-ada9-43b49ce97864",
   "metadata": {},
   "outputs": [
    {
     "data": {
      "text/plain": [
       "'sad'"
      ]
     },
     "execution_count": 26,
     "metadata": {},
     "output_type": "execute_result"
    }
   ],
   "source": [
    "result = zero_shot_classifier(example_text, candidate_labels=emotion_labels)\n",
    "result[\"labels\"][0]"
   ]
  },
  {
   "cell_type": "code",
   "execution_count": 27,
   "id": "822b2bc3-973a-4542-8e6a-5740e1ca91c3",
   "metadata": {},
   "outputs": [
    {
     "name": "stderr",
     "output_type": "stream",
     "text": [
      "100%|██████████████████████████████████████████████████████████████████████████████████████████████████████████████████████████████████████████████| 500/500 [01:21<00:00,  6.10it/s]\n"
     ]
    }
   ],
   "source": [
    "zero_shot_predictions = []\n",
    "for text in tqdm(df_test[\"Utterance\"]):\n",
    "    output = zero_shot_classifier(text, candidate_labels=emotion_labels)\n",
    "    zero_shot_predictions.append(output[\"labels\"][0])"
   ]
  },
  {
   "cell_type": "code",
   "execution_count": 28,
   "id": "8e9e5f4f-1f38-4884-b39a-d9bd59dbb0c9",
   "metadata": {},
   "outputs": [
    {
     "name": "stdout",
     "output_type": "stream",
     "text": [
      "Evaluation results on the EmoryNLP dataset using facebook/bart-large-mnli (zero-shot classification):\n",
      "\n",
      "              precision    recall  f1-score   support\n",
      "\n",
      "      joyful       0.57      0.12      0.20       102\n",
      "         mad       0.15      0.27      0.20        49\n",
      "     neutral       0.36      0.07      0.12       165\n",
      "    peaceful       0.05      0.02      0.03        43\n",
      "    powerful       0.09      0.52      0.15        42\n",
      "         sad       0.21      0.27      0.24        37\n",
      "      scared       0.24      0.19      0.21        62\n",
      "\n",
      "    accuracy                           0.16       500\n",
      "   macro avg       0.24      0.21      0.16       500\n",
      "weighted avg       0.31      0.16      0.16       500\n",
      "\n"
     ]
    }
   ],
   "source": [
    "print(\"Evaluation results on the EmoryNLP dataset using facebook/bart-large-mnli (zero-shot classification):\\n\")\n",
    "print(classification_report(df_test[\"Emotion\"], zero_shot_predictions, zero_division=0))\n",
    "model_scores[\"facebook/bart-large-mnli\"] = f1_score(df_test[\"Emotion\"], zero_shot_predictions, average='weighted', zero_division=0)"
   ]
  },
  {
   "cell_type": "markdown",
   "id": "1f02be8a-ee87-47bc-8a30-60dd60d39151",
   "metadata": {},
   "source": [
    "## 🤖 Emotion Classification with `emotion-english-distilroberta-base`\n",
    "\n",
    "In this step, I evaluate a transformer-based model fine-tuned specifically for emotion classification: [`j-hartmann/emotion-english-distilroberta-base`](https://huggingface.co/j-hartmann/emotion-english-distilroberta-base). This model is built on top of DistilRoBERTa and has been trained on multiple English emotion datasets.\n",
    "\n",
    "Using the Hugging Face `text-classification` pipeline, I apply the model to each utterance in the dataset and extract the top predicted emotion label. I then compare the predicted labels to the ground-truth annotations using standard classification metrics."
   ]
  },
  {
   "cell_type": "code",
   "execution_count": 29,
   "id": "87d16267-94e0-4d96-9810-368064d3ba6a",
   "metadata": {},
   "outputs": [
    {
     "name": "stderr",
     "output_type": "stream",
     "text": [
      "Device set to use mps:0\n"
     ]
    }
   ],
   "source": [
    "distilroberta_classifier = pipeline(\"text-classification\", model=\"j-hartmann/emotion-english-distilroberta-base\")"
   ]
  },
  {
   "cell_type": "code",
   "execution_count": 30,
   "id": "ad13ff03-1674-4653-bd8f-b9dc32728c78",
   "metadata": {},
   "outputs": [
    {
     "data": {
      "text/plain": [
       "[{'label': 'sadness', 'score': 0.8036125302314758}]"
      ]
     },
     "execution_count": 30,
     "metadata": {},
     "output_type": "execute_result"
    }
   ],
   "source": [
    "result = distilroberta_classifier(example_text)\n",
    "result"
   ]
  },
  {
   "cell_type": "code",
   "execution_count": 31,
   "id": "10887050-8ff7-44fc-b3bf-99a117afb999",
   "metadata": {},
   "outputs": [
    {
     "name": "stderr",
     "output_type": "stream",
     "text": [
      "100%|██████████████████████████████████████████████████████████████████████████████████████████████████████████████████████████████████████████████| 500/500 [00:06<00:00, 74.07it/s]\n"
     ]
    }
   ],
   "source": [
    "emotion_mapping = {\n",
    "    \"joy\": \"joyful\",\n",
    "    \"neutral\": \"neutral\",\n",
    "    \"surprise\": \"powerful\",\n",
    "    \"fear\": \"scared\",\n",
    "    \"sadness\": \"sad\",\n",
    "    \"disgust\": \"mad\",\n",
    "    \"anger\": \"mad\"\n",
    "}\n",
    "predictions_distilroberta = []\n",
    "for text in tqdm(df_test[\"Utterance\"]):\n",
    "    output = distilroberta_classifier(text, top_k=1)\n",
    "    mapped_emotion = emotion_mapping[output[0][\"label\"]]\n",
    "    predictions_distilroberta.append(mapped_emotion)"
   ]
  },
  {
   "cell_type": "code",
   "execution_count": 32,
   "id": "0511ede5-d42f-4b12-8b94-e76600aa3ff9",
   "metadata": {},
   "outputs": [
    {
     "name": "stdout",
     "output_type": "stream",
     "text": [
      "Evaluation results on the EmoryNLP dataset using j-hartmann/emotion-english-distilroberta-base (text classification):\n",
      "\n",
      "              precision    recall  f1-score   support\n",
      "\n",
      "      joyful       0.47      0.19      0.27       102\n",
      "         mad       0.17      0.35      0.23        49\n",
      "     neutral       0.40      0.52      0.45       165\n",
      "    peaceful       0.00      0.00      0.00        43\n",
      "    powerful       0.05      0.14      0.08        42\n",
      "         sad       0.24      0.16      0.19        37\n",
      "      scared       0.40      0.06      0.11        62\n",
      "\n",
      "    accuracy                           0.28       500\n",
      "   macro avg       0.25      0.20      0.19       500\n",
      "weighted avg       0.32      0.28      0.26       500\n",
      "\n"
     ]
    }
   ],
   "source": [
    "print(\"Evaluation results on the EmoryNLP dataset using j-hartmann/emotion-english-distilroberta-base (text classification):\\n\")\n",
    "print(classification_report(df_test[\"Emotion\"], predictions_distilroberta, zero_division=0))\n",
    "model_scores[\"j-hartmann/emotion-english-distilroberta-base\"] = f1_score(df_test[\"Emotion\"], predictions_distilroberta, average='weighted', zero_division=0)"
   ]
  },
  {
   "cell_type": "markdown",
   "id": "03d8f041-7815-43d1-b52b-a3b37cb8f675",
   "metadata": {},
   "source": [
    "## 🤖 Emotion Classification using Large Language Models and Prompt Engineering\n",
    "\n",
    "In this section, I evaluate the emotion classification capabilities of several large language models (LLMs) using **prompt-based inference**, without task-specific fine-tuning. This approach leverages the few-shot and instruction-following capabilities of modern LLMs for **in-context learning**.\n",
    "\n",
    "#### 💡 Models Used\n",
    "\n",
    "I tested the following LLMs across various prompting strategies:\n",
    "\n",
    "* **`llama3.1:8b`** via **Ollama**\n",
    "* **`gpt-4.1-nano`** via **OpenAI API**\n",
    "* **`gemini-2.5-flash-lite`** via **Vertex AI**\n",
    "\n",
    "These models were evaluated using a consistent framework to ensure comparability.\n",
    "\n",
    "#### 🧠 Prompting Strategies\n",
    "\n",
    "To understand how different types of prompts affect performance, I evaluated each model with the following five prompt types:\n",
    "\n",
    "1. **Zero-shot prompt**: The model receives only the target utterance and is expected to infer the emotion label from a predefined list, with no prior examples.\n",
    "2. **One-shot prompt**: A single labeled example is provided before the target utterance.\n",
    "3. **Few-shot prompt**: Multiple labeled examples (covering all emotion classes) are provided to guide the model's prediction.\n",
    "4. **Contextual prompt**: The model receives the target utterance along with the preceding utterances from the same conversation to account for dialogue context.\n",
    "5. **Retrieval-Augmented Contextual prompt**: In addition to the conversation history, the model is shown one **relevant example** from the training dataset, retrieved via semantic similarity using a **vector store (FAISS)**. This combines **retrieval-augmented generation (RAG)** principles with conversational context.\n",
    "\n",
    "#### 🧰 Framework Components\n",
    "\n",
    "To support this evaluation, I implemented several utility classes:\n",
    "\n",
    "* **`EmoryNLPDataManager`**: Organizes utterances by dialogue and retrieves conversation history given a dialogue and utterance ID.\n",
    "* **`DemonstrationRetriever`**: Builds a semantic vector store using sentence embeddings (`all-MiniLM-L6-v2`) and retrieves the most similar utterance from the training set for use in retrieval-augmented prompts.\n",
    "* **`PromptGenerator`**: Generates different prompt templates in a modular way, including support for history and demonstrations.\n",
    "* **`evaluate_emotion_classification`**: A unified evaluation function that constructs the prompt, queries the model, extracts predicted labels, and reports performance metrics.\n",
    "\n",
    "#### 📊 Evaluation\n",
    "\n",
    "Each model was tested on the same EmoryNLP test split with all five prompt types. The outputs were evaluated using **precision, recall, and F1-score**, and the predicted labels were extracted using a rule-based parser that identifies the first valid emotion label in the model output."
   ]
  },
  {
   "cell_type": "code",
   "execution_count": 33,
   "id": "ec14725f-95cf-46fc-87b6-32089ba3377d",
   "metadata": {},
   "outputs": [],
   "source": [
    "class EmoryNLPDataManager:\n",
    "    def __init__(self, dataframe: pd.DataFrame):\n",
    "        self.df = dataframe.copy()\n",
    "        self.dialogues: Dict[int, List[Dict[str, Any]]] = {}\n",
    "        for dialogue_id, group in self.df.groupby('Dialogue_ID'):\n",
    "            self.dialogues[dialogue_id] = group.sort_values(by='Utterance_ID').to_dict('records')\n",
    "\n",
    "    def get_conversation_history(self, dialogue_id: int, utterance_id: int, window_size: int = 9) -> List[Dict[str, Any]]:\n",
    "        if dialogue_id not in self.dialogues: return []\n",
    "        conversation = self.dialogues[dialogue_id]\n",
    "        target_idx = next((i for i, u in enumerate(conversation) if u['Utterance_ID'] == utterance_id), -1)\n",
    "        if target_idx == -1: return []\n",
    "        start_idx = max(0, target_idx - window_size)\n",
    "        return conversation[start_idx:target_idx]"
   ]
  },
  {
   "cell_type": "code",
   "execution_count": 34,
   "id": "7c6e4759-781b-4785-a28c-fb415962cf20",
   "metadata": {},
   "outputs": [],
   "source": [
    "class DemonstrationRetriever:\n",
    "    \"\"\"\n",
    "    Handles creating an in-memory vector store and retrieving demonstrations.\n",
    "    This version does NOT save the vector store to disk.\n",
    "    \"\"\"\n",
    "    def __init__(self, train_df: pd.DataFrame, embedding_model_name: str = 'all-MiniLM-L6-v2'):\n",
    "        \"\"\"\n",
    "        Initializes the retriever by creating an in-memory FAISS vector store from train_df.\n",
    "        \"\"\"\n",
    "        print(\"Initializing DemonstrationRetriever and creating in-memory vector store...\")\n",
    "        self.embeddings = HuggingFaceEmbeddings(model_name=embedding_model_name)\n",
    "        documents = train_df['Utterance'].tolist()\n",
    "        metadatas = train_df[['Emotion']].to_dict('records')\n",
    "        self.vector_store = FAISS.from_texts(documents, self.embeddings, metadatas=metadatas)\n",
    "        print(\"In-memory vector store created successfully.\")\n",
    "\n",
    "    def retrieve_demonstration(self, query_utterance: str) -> str:\n",
    "        results = self.vector_store.similarity_search(query_utterance, k=1)\n",
    "        if not results: return \"No demonstration found.\"\n",
    "        retrieved_doc = results[0]\n",
    "        return f\"Utterance: \\\"{retrieved_doc.page_content}\\\"\\nEmotion: {retrieved_doc.metadata.get('Emotion', 'N/A')}\"\n"
   ]
  },
  {
   "cell_type": "code",
   "execution_count": 35,
   "id": "fe78245e-d44d-46ee-9bc4-812bfa847201",
   "metadata": {},
   "outputs": [],
   "source": [
    "class PromptGenerator:\n",
    "    \"\"\"\n",
    "    A toolkit for generating various ChatPromptTemplates for emotion recognition.\n",
    "    \"\"\"\n",
    "    EMORYNLP_EMOTION_LABELS = emotion_labels\n",
    "\n",
    "    def _format_history(self, history: List[Dict[str, Any]]) -> str:\n",
    "        if not history: return \"This is the first utterance in the conversation.\"\n",
    "        return \"\\n\".join([f\"{u['Speaker']}: \\\"{u['Utterance']}\\\"\" for u in history])\n",
    "\n",
    "    def _format_target_utterance(self, target_utterance: Dict[str, Any]) -> str:\n",
    "        return f\"{target_utterance['Speaker']}: \\\"{target_utterance['Utterance']}\\\"\"\n",
    "\n",
    "    def get_zero_shot_template(self) -> ChatPromptTemplate:\n",
    "        \"\"\"Returns a basic zero-shot classification prompt.\"\"\"\n",
    "        emotion_options = \", \".join(self.EMORYNLP_EMOTION_LABELS)\n",
    "        template = ChatPromptTemplate.from_messages([\n",
    "            (\"system\", f\"You are a classification assistant. Only output one of the following emotion labels: {emotion_options}. No explanation.\"),\n",
    "            (\"user\", \"Utterance: {utterance}\\nEmotion:\")\n",
    "        ])\n",
    "        template.name = \"zero_shot_prompt\"\n",
    "        return template\n",
    "\n",
    "    def get_one_shot_template(self) -> ChatPromptTemplate:\n",
    "        \"\"\"Returns a one-shot classification prompt with a single example.\"\"\"\n",
    "        emotion_options = \", \".join(self.EMORYNLP_EMOTION_LABELS)\n",
    "        template = ChatPromptTemplate.from_messages([\n",
    "            (\"system\", f\"You are an assistant that labels user utterances with one of the following emotions: {emotion_options}. Please give only the label!\"),\n",
    "            (\"user\", \"Utterance: That’s fine. I’m okay with it. → Emotion: neutral\\nUtterance: {utterance} → Emotion:\")\n",
    "        ])\n",
    "        template.name = \"one_shot_prompt\"\n",
    "        return template\n",
    "\n",
    "    def get_few_shot_template(self) -> ChatPromptTemplate:\n",
    "        \"\"\"Returns a few-shot classification prompt with multiple examples.\"\"\"\n",
    "        emotion_options = \", \".join(self.EMORYNLP_EMOTION_LABELS)\n",
    "        template = ChatPromptTemplate.from_messages([\n",
    "            (\"system\", f\"You are an assistant that labels user utterances with one of the following emotions: {emotion_options}. Please give only the label!\"),\n",
    "            (\"user\", \"\"\"Examples:\n",
    "\n",
    "Utterance: I just got the job I really wanted!\n",
    "Emotion: joyful\n",
    "\n",
    "Utterance: Everything's fine, I guess.\n",
    "Emotion: neutral\n",
    "\n",
    "Utterance: I can do this. I believe in myself!\n",
    "Emotion: powerful\n",
    "\n",
    "Utterance: This is so unfair!\n",
    "Emotion: mad\n",
    "\n",
    "Utterance: I feel so alone lately.\n",
    "Emotion: sad\n",
    "\n",
    "Utterance: What if something bad happens?\n",
    "Emotion: scared\n",
    "\n",
    "Utterance: I feel calm and at peace with everything.\n",
    "Emotion: peaceful\n",
    "\n",
    "Now classify:\n",
    "Utterance: \"{utterance}\"\n",
    "Emotion:\"\"\")\n",
    "        ])\n",
    "        template.name = \"few_shot_prompt\"\n",
    "        return template\n",
    "\n",
    "    def get_contextual_template(self) -> ChatPromptTemplate:\n",
    "        \"\"\"Returns an InstructERC-style prompt with history but no demonstration.\"\"\"\n",
    "        emotion_options = \", \".join(self.EMORYNLP_EMOTION_LABELS)\n",
    "        system_template = (\"You are an expert in conversational analysis. Your task is to identify the emotion of the \"\n",
    "                           \"TARGET UTTERANCE based on the CONVERSATION HISTORY. \"\n",
    "                           f\"You must only output one of the following emotion labels: <{emotion_options}>. Do not provide any explanation.\")\n",
    "        user_template = (\"### CONVERSATION HISTORY ###\\n{history}\\n\\n\"\n",
    "                         \"### TARGET UTTERANCE ###\\n{target_utterance_with_speaker}\\n\\n\"\n",
    "                         \"Emotion:\")\n",
    "        template = ChatPromptTemplate.from_messages([(\"system\", system_template), (\"user\", user_template)])\n",
    "        template.name = \"contextual_prompt\"\n",
    "        return template\n",
    "\n",
    "    def get_retrieval_augmented_contextual_template(self) -> ChatPromptTemplate:\n",
    "        \"\"\"Returns the full InstructERC-style prompt with history and a demonstration.\"\"\"\n",
    "        emotion_options = \", \".join(self.EMORYNLP_EMOTION_LABELS)\n",
    "        system_template = (\"You are an expert in conversational analysis. Your task is to identify the emotion of the \"\n",
    "                           \"TARGET UTTERANCE based on the provided DEMONSTRATION example and the CONVERSATION HISTORY. \"\n",
    "                           f\"You must only output one of the following emotion labels: <{emotion_options}>. Do not provide any explanation.\")\n",
    "        user_template = (\"### DEMONSTRATION ###\\n{demonstration}\\n\\n\"\n",
    "                         \"### CONVERSATION HISTORY ###\\n{history}\\n\\n\"\n",
    "                         \"### TARGET UTTERANCE ###\\n{target_utterance_with_speaker}\\n\\n\"\n",
    "                         \"Emotion:\")\n",
    "        template = ChatPromptTemplate.from_messages([(\"system\", system_template), (\"user\", user_template)])\n",
    "        template.name = \"retrieval_augmented_contextual_prompt\"\n",
    "        return template"
   ]
  },
  {
   "cell_type": "code",
   "execution_count": 36,
   "id": "570b0827-3a08-4c01-95ec-4b7142fb8ea6",
   "metadata": {},
   "outputs": [],
   "source": [
    "def extract_emotion_from_output(output_text: str, valid_labels: List[str]) -> Optional[str]:\n",
    "    output_text = output_text.lower()\n",
    "    first_found = None\n",
    "    first_index = len(output_text) + 1\n",
    "    for label in valid_labels:\n",
    "        try:\n",
    "            idx = output_text.find(label)\n",
    "            if idx != -1 and idx < first_index:\n",
    "                first_index = idx\n",
    "                first_found = label\n",
    "        except AttributeError:\n",
    "            return \"neutral\"\n",
    "    return first_found if first_found else \"neutral\"\n",
    "\n",
    "def print_classification_report(labels: List[str], predictions: List[str], llm_name: str, prompt_name: str):\n",
    "    print(f\"\\n📌 Evaluating with model: {llm_name}\")\n",
    "    print(f\"📄 Prompt Template Type: {prompt_name}\\n\")\n",
    "    print(classification_report(labels, predictions, zero_division=0))\n",
    "    \n",
    "def evaluate_emotion_classification(df: pd.DataFrame, llm, prompt: ChatPromptTemplate, data_manager: EmoryNLPDataManager, retriever: Optional[DemonstrationRetriever] = None, limit: Optional[int] = None, verbose: bool = False, print_report: bool = False):\n",
    "    if verbose:\n",
    "        print(f\"\\n📌 Evaluating with model: {llm.model}\")\n",
    "        print(f\"📄 Prompt Template Type: {prompt.name}\")\n",
    "    results = []\n",
    "    df_subset = df.head(limit) if limit else df\n",
    "    for idx, row in tqdm(df_subset.iterrows(), total=len(df_subset), desc=f\"Evaluating {prompt.name} using {llm.name}\"):\n",
    "        input_dict = {}\n",
    "        if prompt.name in [\"zero_shot_prompt\", \"one_shot_prompt\", \"few_shot_prompt\"]:\n",
    "            input_dict = {\"utterance\": row['Utterance']}\n",
    "        elif prompt.name in [\"contextual_prompt\", \"retrieval_augmented_contextual_prompt\"]:\n",
    "            history_list = data_manager.get_conversation_history(row['Dialogue_ID'], row['Utterance_ID'])\n",
    "            input_dict[\"history\"] = prompt_generator._format_history(history_list)\n",
    "            input_dict[\"target_utterance_with_speaker\"] = prompt_generator._format_target_utterance(row)\n",
    "            if prompt.name == \"retrieval_augmented_contextual_prompt\":\n",
    "                input_dict[\"demonstration\"] = retriever.retrieve_demonstration(row['Utterance'])\n",
    "        prompt_input = prompt.invoke(input_dict)\n",
    "        raw_output = llm.invoke(prompt_input)\n",
    "        if isinstance(raw_output, AIMessage):\n",
    "            raw_output = raw_output.content\n",
    "        predicted_emotion = extract_emotion_from_output(raw_output, PromptGenerator.EMORYNLP_EMOTION_LABELS)\n",
    "        results.append(predicted_emotion)\n",
    "    \n",
    "    model_scores[f\"{llm.name} with {prompt.name}\"] = f1_score(df_subset[\"Emotion\"], results, average='weighted', zero_division=0)\n",
    "    \n",
    "    if print_report:\n",
    "        print_classification_report(df_subset[\"Emotion\"].tolist(), results, llm.name, prompt.name)\n",
    "    return results"
   ]
  },
  {
   "cell_type": "code",
   "execution_count": 37,
   "id": "477778dc-f689-411a-95df-3b9f2844552c",
   "metadata": {},
   "outputs": [
    {
     "name": "stdout",
     "output_type": "stream",
     "text": [
      "Initializing DemonstrationRetriever and creating in-memory vector store...\n",
      "In-memory vector store created successfully.\n"
     ]
    }
   ],
   "source": [
    "retriever = DemonstrationRetriever(train_df=df_train)\n",
    "data_manager = EmoryNLPDataManager(df_test)\n",
    "prompt_generator = PromptGenerator()"
   ]
  },
  {
   "cell_type": "markdown",
   "id": "b88f4105-d4cc-4275-b4b0-6a159e8101e3",
   "metadata": {},
   "source": [
    "### LLM: \"llama3.1:8b\""
   ]
  },
  {
   "cell_type": "code",
   "execution_count": 38,
   "id": "85f4ca3e-7809-49cf-88c9-c34b6dce5aac",
   "metadata": {},
   "outputs": [],
   "source": [
    "llama3_8b = OllamaLLM(model=\"llama3.1:8b\")\n",
    "llama3_8b.name = \"llama3.1:8b\""
   ]
  },
  {
   "cell_type": "code",
   "execution_count": 39,
   "id": "d0f607d2-2a35-4b30-95b4-01e2f6ef7a43",
   "metadata": {},
   "outputs": [
    {
     "name": "stderr",
     "output_type": "stream",
     "text": [
      "Evaluating zero_shot_prompt using llama3.1:8b: 100%|███████████████████████████████████████████████████████████████████████████████████████████████| 500/500 [02:02<00:00,  4.08it/s]"
     ]
    },
    {
     "name": "stdout",
     "output_type": "stream",
     "text": [
      "\n",
      "📌 Evaluating with model: llama3.1:8b\n",
      "📄 Prompt Template Type: zero_shot_prompt\n",
      "\n",
      "              precision    recall  f1-score   support\n",
      "\n",
      "      joyful       0.48      0.37      0.42       102\n",
      "         mad       0.29      0.39      0.33        49\n",
      "     neutral       0.46      0.76      0.57       165\n",
      "    peaceful       0.09      0.02      0.04        43\n",
      "    powerful       0.14      0.05      0.07        42\n",
      "         sad       0.30      0.35      0.33        37\n",
      "      scared       0.36      0.06      0.11        62\n",
      "\n",
      "    accuracy                           0.41       500\n",
      "   macro avg       0.30      0.29      0.27       500\n",
      "weighted avg       0.36      0.41      0.35       500\n",
      "\n"
     ]
    },
    {
     "name": "stderr",
     "output_type": "stream",
     "text": [
      "\n"
     ]
    }
   ],
   "source": [
    "_ = evaluate_emotion_classification(\n",
    "    df=df_test, llm=llama3_8b, prompt=prompt_generator.get_zero_shot_template(),\n",
    "    data_manager=data_manager, print_report=True)"
   ]
  },
  {
   "cell_type": "code",
   "execution_count": 40,
   "id": "097427c2-3df2-4124-96ef-941c22c2b750",
   "metadata": {},
   "outputs": [
    {
     "name": "stderr",
     "output_type": "stream",
     "text": [
      "Evaluating one_shot_prompt using llama3.1:8b: 100%|████████████████████████████████████████████████████████████████████████████████████████████████| 500/500 [02:13<00:00,  3.75it/s]"
     ]
    },
    {
     "name": "stdout",
     "output_type": "stream",
     "text": [
      "\n",
      "📌 Evaluating with model: llama3.1:8b\n",
      "📄 Prompt Template Type: one_shot_prompt\n",
      "\n",
      "              precision    recall  f1-score   support\n",
      "\n",
      "      joyful       0.47      0.56      0.51       102\n",
      "         mad       0.27      0.43      0.33        49\n",
      "     neutral       0.53      0.53      0.53       165\n",
      "    peaceful       0.11      0.05      0.06        43\n",
      "    powerful       0.21      0.17      0.19        42\n",
      "         sad       0.24      0.30      0.27        37\n",
      "      scared       0.33      0.21      0.25        62\n",
      "\n",
      "    accuracy                           0.40       500\n",
      "   macro avg       0.31      0.32      0.31       500\n",
      "weighted avg       0.38      0.40      0.38       500\n",
      "\n"
     ]
    },
    {
     "name": "stderr",
     "output_type": "stream",
     "text": [
      "\n"
     ]
    }
   ],
   "source": [
    "_ = evaluate_emotion_classification(\n",
    "    df=df_test, llm=llama3_8b, prompt=prompt_generator.get_one_shot_template(),\n",
    "    data_manager=data_manager, print_report=True)"
   ]
  },
  {
   "cell_type": "code",
   "execution_count": 41,
   "id": "6f09b0e7-9a98-45d4-9fbd-3168b5d752e1",
   "metadata": {},
   "outputs": [
    {
     "name": "stderr",
     "output_type": "stream",
     "text": [
      "Evaluating few_shot_prompt using llama3.1:8b: 100%|████████████████████████████████████████████████████████████████████████████████████████████████| 500/500 [01:57<00:00,  4.25it/s]"
     ]
    },
    {
     "name": "stdout",
     "output_type": "stream",
     "text": [
      "\n",
      "📌 Evaluating with model: llama3.1:8b\n",
      "📄 Prompt Template Type: few_shot_prompt\n",
      "\n",
      "              precision    recall  f1-score   support\n",
      "\n",
      "      joyful       0.55      0.28      0.37       102\n",
      "         mad       0.23      0.57      0.33        49\n",
      "     neutral       0.48      0.70      0.57       165\n",
      "    peaceful       0.25      0.09      0.14        43\n",
      "    powerful       0.32      0.14      0.20        42\n",
      "         sad       0.36      0.22      0.27        37\n",
      "      scared       0.38      0.18      0.24        62\n",
      "\n",
      "    accuracy                           0.40       500\n",
      "   macro avg       0.37      0.31      0.30       500\n",
      "weighted avg       0.42      0.40      0.38       500\n",
      "\n"
     ]
    },
    {
     "name": "stderr",
     "output_type": "stream",
     "text": [
      "\n"
     ]
    }
   ],
   "source": [
    "_ = evaluate_emotion_classification(\n",
    "    df=df_test, llm=llama3_8b, prompt=prompt_generator.get_few_shot_template(),\n",
    "    data_manager=data_manager, print_report=True)"
   ]
  },
  {
   "cell_type": "code",
   "execution_count": 42,
   "id": "d92688ac-a8c8-474e-9d50-f34c74eb58c6",
   "metadata": {},
   "outputs": [
    {
     "name": "stderr",
     "output_type": "stream",
     "text": [
      "Evaluating contextual_prompt using llama3.1:8b: 100%|██████████████████████████████████████████████████████████████████████████████████████████████| 500/500 [04:20<00:00,  1.92it/s]"
     ]
    },
    {
     "name": "stdout",
     "output_type": "stream",
     "text": [
      "\n",
      "📌 Evaluating with model: llama3.1:8b\n",
      "📄 Prompt Template Type: contextual_prompt\n",
      "\n",
      "              precision    recall  f1-score   support\n",
      "\n",
      "      joyful       0.45      0.38      0.41       102\n",
      "         mad       0.21      0.51      0.30        49\n",
      "     neutral       0.48      0.41      0.44       165\n",
      "    peaceful       0.13      0.12      0.12        43\n",
      "    powerful       0.14      0.10      0.11        42\n",
      "         sad       0.24      0.43      0.31        37\n",
      "      scared       0.33      0.11      0.17        62\n",
      "\n",
      "    accuracy                           0.33       500\n",
      "   macro avg       0.28      0.29      0.27       500\n",
      "weighted avg       0.35      0.33      0.32       500\n",
      "\n"
     ]
    },
    {
     "name": "stderr",
     "output_type": "stream",
     "text": [
      "\n"
     ]
    }
   ],
   "source": [
    "_ = evaluate_emotion_classification(\n",
    "    df=df_test, llm=llama3_8b, prompt=prompt_generator.get_contextual_template(),\n",
    "    data_manager=data_manager, print_report=True)"
   ]
  },
  {
   "cell_type": "code",
   "execution_count": 43,
   "id": "bf839cc6-4be7-4454-939b-70393d6aaaf8",
   "metadata": {},
   "outputs": [
    {
     "name": "stderr",
     "output_type": "stream",
     "text": [
      "Evaluating retrieval_augmented_contextual_prompt using llama3.1:8b: 100%|██████████████████████████████████████████████████████████████████████████| 500/500 [06:35<00:00,  1.27it/s]"
     ]
    },
    {
     "name": "stdout",
     "output_type": "stream",
     "text": [
      "\n",
      "📌 Evaluating with model: llama3.1:8b\n",
      "📄 Prompt Template Type: retrieval_augmented_contextual_prompt\n",
      "\n",
      "              precision    recall  f1-score   support\n",
      "\n",
      "      joyful       0.46      0.46      0.46       102\n",
      "         mad       0.18      0.35      0.23        49\n",
      "     neutral       0.51      0.33      0.40       165\n",
      "    peaceful       0.15      0.14      0.14        43\n",
      "    powerful       0.10      0.12      0.11        42\n",
      "         sad       0.20      0.38      0.26        37\n",
      "      scared       0.26      0.13      0.17        62\n",
      "\n",
      "    accuracy                           0.30       500\n",
      "   macro avg       0.26      0.27      0.25       500\n",
      "weighted avg       0.35      0.30      0.31       500\n",
      "\n"
     ]
    },
    {
     "name": "stderr",
     "output_type": "stream",
     "text": [
      "\n"
     ]
    }
   ],
   "source": [
    "_ = evaluate_emotion_classification(\n",
    "    df=df_test, llm=llama3_8b, prompt=prompt_generator.get_retrieval_augmented_contextual_template(),\n",
    "    data_manager=data_manager, retriever=retriever, print_report=True)"
   ]
  },
  {
   "cell_type": "markdown",
   "id": "f72aa051-e7e1-4713-85d8-55f2c207df39",
   "metadata": {},
   "source": [
    "### LLM: \"gpt-4.1-nano\""
   ]
  },
  {
   "cell_type": "code",
   "execution_count": 44,
   "id": "dbd8a5fe-7913-4326-a50f-c40d5a8c35ec",
   "metadata": {},
   "outputs": [],
   "source": [
    "gpt_4_1_nano = ChatOpenAI(model=\"gpt-4.1-nano\", temperature=0)\n",
    "gpt_4_1_nano.name = \"gpt_4_1_nano\""
   ]
  },
  {
   "cell_type": "code",
   "execution_count": 45,
   "id": "49b43e96-23e3-4595-9a0a-bc82f6cf3011",
   "metadata": {},
   "outputs": [
    {
     "name": "stderr",
     "output_type": "stream",
     "text": [
      "Evaluating zero_shot_prompt using gpt_4_1_nano: 100%|██████████████████████████████████████████████████████████████████████████████████████████████| 500/500 [03:56<00:00,  2.11it/s]"
     ]
    },
    {
     "name": "stdout",
     "output_type": "stream",
     "text": [
      "\n",
      "📌 Evaluating with model: gpt_4_1_nano\n",
      "📄 Prompt Template Type: zero_shot_prompt\n",
      "\n",
      "              precision    recall  f1-score   support\n",
      "\n",
      "      joyful       0.49      0.48      0.49       102\n",
      "         mad       0.24      0.33      0.28        49\n",
      "     neutral       0.51      0.69      0.59       165\n",
      "    peaceful       0.12      0.05      0.07        43\n",
      "    powerful       0.26      0.21      0.24        42\n",
      "         sad       0.37      0.30      0.33        37\n",
      "      scared       0.41      0.21      0.28        62\n",
      "\n",
      "    accuracy                           0.43       500\n",
      "   macro avg       0.34      0.32      0.32       500\n",
      "weighted avg       0.40      0.43      0.41       500\n",
      "\n"
     ]
    },
    {
     "name": "stderr",
     "output_type": "stream",
     "text": [
      "\n"
     ]
    }
   ],
   "source": [
    "_ = evaluate_emotion_classification(\n",
    "    df=df_test, llm=gpt_4_1_nano, prompt=prompt_generator.get_zero_shot_template(),\n",
    "    data_manager=data_manager, print_report=True)"
   ]
  },
  {
   "cell_type": "code",
   "execution_count": 46,
   "id": "8ce41e65-0249-4390-9b22-6066a3dc14a3",
   "metadata": {},
   "outputs": [
    {
     "name": "stderr",
     "output_type": "stream",
     "text": [
      "Evaluating one_shot_prompt using gpt_4_1_nano: 100%|███████████████████████████████████████████████████████████████████████████████████████████████| 500/500 [04:09<00:00,  2.00it/s]"
     ]
    },
    {
     "name": "stdout",
     "output_type": "stream",
     "text": [
      "\n",
      "📌 Evaluating with model: gpt_4_1_nano\n",
      "📄 Prompt Template Type: one_shot_prompt\n",
      "\n",
      "              precision    recall  f1-score   support\n",
      "\n",
      "      joyful       0.44      0.60      0.50       102\n",
      "         mad       0.21      0.29      0.24        49\n",
      "     neutral       0.54      0.60      0.57       165\n",
      "    peaceful       0.00      0.00      0.00        43\n",
      "    powerful       0.24      0.19      0.21        42\n",
      "         sad       0.55      0.30      0.39        37\n",
      "      scared       0.38      0.32      0.35        62\n",
      "\n",
      "    accuracy                           0.43       500\n",
      "   macro avg       0.34      0.33      0.32       500\n",
      "weighted avg       0.40      0.43      0.40       500\n",
      "\n"
     ]
    },
    {
     "name": "stderr",
     "output_type": "stream",
     "text": [
      "\n"
     ]
    }
   ],
   "source": [
    "_ = evaluate_emotion_classification(\n",
    "    df=df_test, llm=gpt_4_1_nano, prompt=prompt_generator.get_one_shot_template(),\n",
    "    data_manager=data_manager, print_report=True)"
   ]
  },
  {
   "cell_type": "code",
   "execution_count": 47,
   "id": "42bfa99d-f9d5-4ce9-9942-b50365f1f03b",
   "metadata": {},
   "outputs": [
    {
     "name": "stderr",
     "output_type": "stream",
     "text": [
      "Evaluating few_shot_prompt using gpt_4_1_nano: 100%|███████████████████████████████████████████████████████████████████████████████████████████████| 500/500 [03:49<00:00,  2.18it/s]"
     ]
    },
    {
     "name": "stdout",
     "output_type": "stream",
     "text": [
      "\n",
      "📌 Evaluating with model: gpt_4_1_nano\n",
      "📄 Prompt Template Type: few_shot_prompt\n",
      "\n",
      "              precision    recall  f1-score   support\n",
      "\n",
      "      joyful       0.52      0.46      0.49       102\n",
      "         mad       0.23      0.35      0.28        49\n",
      "     neutral       0.46      0.68      0.55       165\n",
      "    peaceful       0.17      0.02      0.04        43\n",
      "    powerful       0.13      0.07      0.09        42\n",
      "         sad       0.62      0.22      0.32        37\n",
      "      scared       0.29      0.24      0.26        62\n",
      "\n",
      "    accuracy                           0.41       500\n",
      "   macro avg       0.35      0.29      0.29       500\n",
      "weighted avg       0.39      0.41      0.38       500\n",
      "\n"
     ]
    },
    {
     "name": "stderr",
     "output_type": "stream",
     "text": [
      "\n"
     ]
    }
   ],
   "source": [
    "_ = evaluate_emotion_classification(\n",
    "    df=df_test, llm=gpt_4_1_nano, prompt=prompt_generator.get_few_shot_template(),\n",
    "    data_manager=data_manager, print_report=True)"
   ]
  },
  {
   "cell_type": "code",
   "execution_count": 48,
   "id": "5d518d9c-a45e-434f-a0f8-9ce58f0efd3d",
   "metadata": {},
   "outputs": [
    {
     "name": "stderr",
     "output_type": "stream",
     "text": [
      "Evaluating contextual_prompt using gpt_4_1_nano: 100%|█████████████████████████████████████████████████████████████████████████████████████████████| 500/500 [04:09<00:00,  2.01it/s]"
     ]
    },
    {
     "name": "stdout",
     "output_type": "stream",
     "text": [
      "\n",
      "📌 Evaluating with model: gpt_4_1_nano\n",
      "📄 Prompt Template Type: contextual_prompt\n",
      "\n",
      "              precision    recall  f1-score   support\n",
      "\n",
      "      joyful       0.47      0.62      0.54       102\n",
      "         mad       0.33      0.33      0.33        49\n",
      "     neutral       0.48      0.73      0.58       165\n",
      "    peaceful       0.00      0.00      0.00        43\n",
      "    powerful       0.17      0.02      0.04        42\n",
      "         sad       0.38      0.27      0.32        37\n",
      "      scared       0.25      0.06      0.10        62\n",
      "\n",
      "    accuracy                           0.43       500\n",
      "   macro avg       0.30      0.29      0.27       500\n",
      "weighted avg       0.36      0.43      0.37       500\n",
      "\n"
     ]
    },
    {
     "name": "stderr",
     "output_type": "stream",
     "text": [
      "\n"
     ]
    }
   ],
   "source": [
    "_ = evaluate_emotion_classification(\n",
    "    df=df_test, llm=gpt_4_1_nano, prompt=prompt_generator.get_contextual_template(),\n",
    "    data_manager=data_manager, print_report=True)"
   ]
  },
  {
   "cell_type": "code",
   "execution_count": 49,
   "id": "8f2ea609-519d-4c7a-a32e-fdc232786740",
   "metadata": {},
   "outputs": [
    {
     "name": "stderr",
     "output_type": "stream",
     "text": [
      "Evaluating retrieval_augmented_contextual_prompt using gpt_4_1_nano: 100%|█████████████████████████████████████████████████████████████████████████| 500/500 [04:05<00:00,  2.04it/s]"
     ]
    },
    {
     "name": "stdout",
     "output_type": "stream",
     "text": [
      "\n",
      "📌 Evaluating with model: gpt_4_1_nano\n",
      "📄 Prompt Template Type: retrieval_augmented_contextual_prompt\n",
      "\n",
      "              precision    recall  f1-score   support\n",
      "\n",
      "      joyful       0.51      0.46      0.48       102\n",
      "         mad       0.35      0.29      0.31        49\n",
      "     neutral       0.44      0.64      0.52       165\n",
      "    peaceful       0.13      0.09      0.11        43\n",
      "    powerful       0.11      0.05      0.07        42\n",
      "         sad       0.31      0.24      0.27        37\n",
      "      scared       0.36      0.26      0.30        62\n",
      "\n",
      "    accuracy                           0.40       500\n",
      "   macro avg       0.31      0.29      0.29       500\n",
      "weighted avg       0.37      0.40      0.37       500\n",
      "\n"
     ]
    },
    {
     "name": "stderr",
     "output_type": "stream",
     "text": [
      "\n"
     ]
    }
   ],
   "source": [
    "_ = evaluate_emotion_classification(\n",
    "    df=df_test, llm=gpt_4_1_nano, prompt=prompt_generator.get_retrieval_augmented_contextual_template(),\n",
    "    data_manager=data_manager, retriever=retriever, print_report=True)"
   ]
  },
  {
   "cell_type": "code",
   "execution_count": null,
   "id": "d245d9ba-eb85-41b9-8d5e-c88348374a62",
   "metadata": {},
   "outputs": [],
   "source": []
  },
  {
   "cell_type": "markdown",
   "id": "5bc13715-786d-4c9e-8b05-f851c945e7e7",
   "metadata": {},
   "source": [
    "### LLM: \"gemini-2.5-flash-lite\""
   ]
  },
  {
   "cell_type": "code",
   "execution_count": 50,
   "id": "6ab79a53-8fa7-4424-a0da-324901e9e4d4",
   "metadata": {},
   "outputs": [],
   "source": [
    "gemini_2_5_flash_lite = ChatVertexAI(model=\"gemini-2.5-flash-lite\", temperature=0)\n",
    "gemini_2_5_flash_lite.name = \"gemini-2.5-flash-lite\""
   ]
  },
  {
   "cell_type": "code",
   "execution_count": 51,
   "id": "a25d2590-4d6a-4026-9f96-104b99832a73",
   "metadata": {},
   "outputs": [
    {
     "name": "stderr",
     "output_type": "stream",
     "text": [
      "Evaluating zero_shot_prompt using gemini-2.5-flash-lite: 100%|█████████████████████████████████████████████████████████████████████████████████████| 500/500 [03:10<00:00,  2.62it/s]"
     ]
    },
    {
     "name": "stdout",
     "output_type": "stream",
     "text": [
      "\n",
      "📌 Evaluating with model: gemini-2.5-flash-lite\n",
      "📄 Prompt Template Type: zero_shot_prompt\n",
      "\n",
      "              precision    recall  f1-score   support\n",
      "\n",
      "      joyful       0.55      0.39      0.46       102\n",
      "         mad       0.33      0.43      0.38        49\n",
      "     neutral       0.45      0.81      0.58       165\n",
      "    peaceful       0.17      0.02      0.04        43\n",
      "    powerful       0.17      0.02      0.04        42\n",
      "         sad       0.34      0.41      0.37        37\n",
      "      scared       0.38      0.05      0.09        62\n",
      "\n",
      "    accuracy                           0.43       500\n",
      "   macro avg       0.34      0.30      0.28       500\n",
      "weighted avg       0.39      0.43      0.37       500\n",
      "\n"
     ]
    },
    {
     "name": "stderr",
     "output_type": "stream",
     "text": [
      "\n"
     ]
    }
   ],
   "source": [
    "_ = evaluate_emotion_classification(\n",
    "    df=df_test, llm=gemini_2_5_flash_lite, prompt=prompt_generator.get_zero_shot_template(),\n",
    "    data_manager=data_manager, print_report=True)"
   ]
  },
  {
   "cell_type": "code",
   "execution_count": 52,
   "id": "125173ed-3f15-414f-ab5f-81ce2ce77170",
   "metadata": {},
   "outputs": [
    {
     "name": "stderr",
     "output_type": "stream",
     "text": [
      "Evaluating one_shot_prompt using gemini-2.5-flash-lite: 100%|██████████████████████████████████████████████████████████████████████████████████████| 500/500 [03:06<00:00,  2.68it/s]"
     ]
    },
    {
     "name": "stdout",
     "output_type": "stream",
     "text": [
      "\n",
      "📌 Evaluating with model: gemini-2.5-flash-lite\n",
      "📄 Prompt Template Type: one_shot_prompt\n",
      "\n",
      "              precision    recall  f1-score   support\n",
      "\n",
      "      joyful       0.59      0.32      0.42       102\n",
      "         mad       0.27      0.57      0.37        49\n",
      "     neutral       0.45      0.73      0.56       165\n",
      "    peaceful       0.00      0.00      0.00        43\n",
      "    powerful       0.38      0.07      0.12        42\n",
      "         sad       0.28      0.30      0.29        37\n",
      "      scared       0.35      0.13      0.19        62\n",
      "\n",
      "    accuracy                           0.41       500\n",
      "   macro avg       0.33      0.30      0.28       500\n",
      "weighted avg       0.39      0.41      0.36       500\n",
      "\n"
     ]
    },
    {
     "name": "stderr",
     "output_type": "stream",
     "text": [
      "\n"
     ]
    }
   ],
   "source": [
    "_ = evaluate_emotion_classification(\n",
    "    df=df_test, llm=gemini_2_5_flash_lite, prompt=prompt_generator.get_one_shot_template(),\n",
    "    data_manager=data_manager, print_report=True)"
   ]
  },
  {
   "cell_type": "code",
   "execution_count": 53,
   "id": "7fb47f5c-7e7e-406d-9071-2e32972b70b0",
   "metadata": {},
   "outputs": [
    {
     "name": "stderr",
     "output_type": "stream",
     "text": [
      "Evaluating few_shot_prompt using gemini-2.5-flash-lite: 100%|██████████████████████████████████████████████████████████████████████████████████████| 500/500 [03:12<00:00,  2.59it/s]"
     ]
    },
    {
     "name": "stdout",
     "output_type": "stream",
     "text": [
      "\n",
      "📌 Evaluating with model: gemini-2.5-flash-lite\n",
      "📄 Prompt Template Type: few_shot_prompt\n",
      "\n",
      "              precision    recall  f1-score   support\n",
      "\n",
      "      joyful       0.58      0.22      0.31       102\n",
      "         mad       0.31      0.41      0.35        49\n",
      "     neutral       0.41      0.88      0.56       165\n",
      "    peaceful       0.00      0.00      0.00        43\n",
      "    powerful       0.33      0.02      0.04        42\n",
      "         sad       0.36      0.22      0.27        37\n",
      "      scared       0.38      0.10      0.15        62\n",
      "\n",
      "    accuracy                           0.40       500\n",
      "   macro avg       0.34      0.26      0.24       500\n",
      "weighted avg       0.38      0.40      0.33       500\n",
      "\n"
     ]
    },
    {
     "name": "stderr",
     "output_type": "stream",
     "text": [
      "\n"
     ]
    }
   ],
   "source": [
    "_ = evaluate_emotion_classification(\n",
    "    df=df_test, llm=gemini_2_5_flash_lite, prompt=prompt_generator.get_few_shot_template(),\n",
    "    data_manager=data_manager, print_report=True)"
   ]
  },
  {
   "cell_type": "code",
   "execution_count": 54,
   "id": "b8e38424-79c5-4e3b-9ce1-c187664c0d46",
   "metadata": {},
   "outputs": [
    {
     "name": "stderr",
     "output_type": "stream",
     "text": [
      "Evaluating contextual_prompt using gemini-2.5-flash-lite: 100%|████████████████████████████████████████████████████████████████████████████████████| 500/500 [03:12<00:00,  2.59it/s]"
     ]
    },
    {
     "name": "stdout",
     "output_type": "stream",
     "text": [
      "\n",
      "📌 Evaluating with model: gemini-2.5-flash-lite\n",
      "📄 Prompt Template Type: contextual_prompt\n",
      "\n",
      "              precision    recall  f1-score   support\n",
      "\n",
      "      joyful       0.79      0.19      0.30       102\n",
      "         mad       0.28      0.45      0.34        49\n",
      "     neutral       0.42      0.89      0.57       165\n",
      "    peaceful       0.50      0.02      0.04        43\n",
      "    powerful       0.50      0.02      0.05        42\n",
      "         sad       0.38      0.38      0.38        37\n",
      "      scared       0.75      0.10      0.17        62\n",
      "\n",
      "    accuracy                           0.42       500\n",
      "   macro avg       0.52      0.29      0.27       500\n",
      "weighted avg       0.53      0.42      0.34       500\n",
      "\n"
     ]
    },
    {
     "name": "stderr",
     "output_type": "stream",
     "text": [
      "\n"
     ]
    }
   ],
   "source": [
    "_ = evaluate_emotion_classification(\n",
    "    df=df_test, llm=gemini_2_5_flash_lite, prompt=prompt_generator.get_contextual_template(),\n",
    "    data_manager=data_manager, print_report=True)"
   ]
  },
  {
   "cell_type": "code",
   "execution_count": 55,
   "id": "c541f4c7-be17-4a02-b165-2a71316a827f",
   "metadata": {},
   "outputs": [
    {
     "name": "stderr",
     "output_type": "stream",
     "text": [
      "Evaluating retrieval_augmented_contextual_prompt using gemini-2.5-flash-lite: 100%|████████████████████████████████████████████████████████████████| 500/500 [04:09<00:00,  2.01it/s]"
     ]
    },
    {
     "name": "stdout",
     "output_type": "stream",
     "text": [
      "\n",
      "📌 Evaluating with model: gemini-2.5-flash-lite\n",
      "📄 Prompt Template Type: retrieval_augmented_contextual_prompt\n",
      "\n",
      "              precision    recall  f1-score   support\n",
      "\n",
      "      joyful       0.56      0.32      0.41       102\n",
      "         mad       0.34      0.37      0.35        49\n",
      "     neutral       0.43      0.71      0.54       165\n",
      "    peaceful       0.27      0.07      0.11        43\n",
      "    powerful       0.20      0.10      0.13        42\n",
      "         sad       0.27      0.46      0.34        37\n",
      "      scared       0.48      0.16      0.24        62\n",
      "\n",
      "    accuracy                           0.40       500\n",
      "   macro avg       0.36      0.31      0.30       500\n",
      "weighted avg       0.41      0.40      0.37       500\n",
      "\n"
     ]
    },
    {
     "name": "stderr",
     "output_type": "stream",
     "text": [
      "\n"
     ]
    }
   ],
   "source": [
    "_ = evaluate_emotion_classification(\n",
    "    df=df_test, llm=gemini_2_5_flash_lite, prompt=prompt_generator.get_retrieval_augmented_contextual_template(),\n",
    "    data_manager=data_manager, retriever=retriever, print_report=True)"
   ]
  },
  {
   "cell_type": "markdown",
   "id": "147d8682-8824-4f13-a86c-e4882f931dd9",
   "metadata": {},
   "source": [
    "### 📊 Visualizing Model Performance with Weighted F1 Scores\n",
    "\n",
    "To compare the effectiveness of different models on the EmoryNLP dataset, I visualize their **weighted F1 scores** using a horizontal bar chart. The weighted F1 score accounts for class imbalance by weighting each class’s F1 score by its support (i.e., number of true instances)."
   ]
  },
  {
   "cell_type": "code",
   "execution_count": 56,
   "id": "a6f2c6b5-427e-4012-b263-025555a14d65",
   "metadata": {},
   "outputs": [
    {
     "data": {
      "application/vnd.plotly.v1+json": {
       "config": {
        "plotlyServerURL": "https://plot.ly"
       },
       "data": [
        {
         "orientation": "h",
         "text": [
          "0.32",
          "0.31",
          "0.26",
          "0.16",
          "0.26",
          "0.35",
          "0.38",
          "0.38",
          "0.32",
          "0.31",
          "0.41",
          "0.40",
          "0.38",
          "0.37",
          "0.37",
          "0.37",
          "0.36",
          "0.33",
          "0.34",
          "0.37"
         ],
         "textposition": "auto",
         "type": "bar",
         "x": [
          0.31937998905856047,
          0.3136725203569393,
          0.2612101277634752,
          0.158578341943707,
          0.2610543238260963,
          0.3534357221116922,
          0.3839332256276554,
          0.3756117109247398,
          0.32416229910983024,
          0.31158082248706537,
          0.40537530641426905,
          0.40350677247069233,
          0.3759385751809186,
          0.3729294238883905,
          0.3727119347978727,
          0.3652468741618511,
          0.35947069354130956,
          0.32506352437635894,
          0.34123166343890027,
          0.3701050443730281
         ],
         "y": [
          "Logistic Regression",
          "SVC",
          "Random Forest Classifier",
          "facebook/bart-large-mnli",
          "j-hartmann/emotion-english-distilroberta-base",
          "llama3.1:8b with zero_shot_prompt",
          "llama3.1:8b with one_shot_prompt",
          "llama3.1:8b with few_shot_prompt",
          "llama3.1:8b with contextual_prompt",
          "llama3.1:8b with retrieval_augmented_contextual_prompt",
          "gpt_4_1_nano with zero_shot_prompt",
          "gpt_4_1_nano with one_shot_prompt",
          "gpt_4_1_nano with few_shot_prompt",
          "gpt_4_1_nano with contextual_prompt",
          "gpt_4_1_nano with retrieval_augmented_contextual_prompt",
          "gemini-2.5-flash-lite with zero_shot_prompt",
          "gemini-2.5-flash-lite with one_shot_prompt",
          "gemini-2.5-flash-lite with few_shot_prompt",
          "gemini-2.5-flash-lite with contextual_prompt",
          "gemini-2.5-flash-lite with retrieval_augmented_contextual_prompt"
         ]
        }
       ],
       "layout": {
        "height": 600,
        "margin": {
         "b": 50,
         "l": 50,
         "r": 50,
         "t": 50
        },
        "template": {
         "data": {
          "bar": [
           {
            "error_x": {
             "color": "#2a3f5f"
            },
            "error_y": {
             "color": "#2a3f5f"
            },
            "marker": {
             "line": {
              "color": "#E5ECF6",
              "width": 0.5
             },
             "pattern": {
              "fillmode": "overlay",
              "size": 10,
              "solidity": 0.2
             }
            },
            "type": "bar"
           }
          ],
          "barpolar": [
           {
            "marker": {
             "line": {
              "color": "#E5ECF6",
              "width": 0.5
             },
             "pattern": {
              "fillmode": "overlay",
              "size": 10,
              "solidity": 0.2
             }
            },
            "type": "barpolar"
           }
          ],
          "carpet": [
           {
            "aaxis": {
             "endlinecolor": "#2a3f5f",
             "gridcolor": "white",
             "linecolor": "white",
             "minorgridcolor": "white",
             "startlinecolor": "#2a3f5f"
            },
            "baxis": {
             "endlinecolor": "#2a3f5f",
             "gridcolor": "white",
             "linecolor": "white",
             "minorgridcolor": "white",
             "startlinecolor": "#2a3f5f"
            },
            "type": "carpet"
           }
          ],
          "choropleth": [
           {
            "colorbar": {
             "outlinewidth": 0,
             "ticks": ""
            },
            "type": "choropleth"
           }
          ],
          "contour": [
           {
            "colorbar": {
             "outlinewidth": 0,
             "ticks": ""
            },
            "colorscale": [
             [
              0,
              "#0d0887"
             ],
             [
              0.1111111111111111,
              "#46039f"
             ],
             [
              0.2222222222222222,
              "#7201a8"
             ],
             [
              0.3333333333333333,
              "#9c179e"
             ],
             [
              0.4444444444444444,
              "#bd3786"
             ],
             [
              0.5555555555555556,
              "#d8576b"
             ],
             [
              0.6666666666666666,
              "#ed7953"
             ],
             [
              0.7777777777777778,
              "#fb9f3a"
             ],
             [
              0.8888888888888888,
              "#fdca26"
             ],
             [
              1,
              "#f0f921"
             ]
            ],
            "type": "contour"
           }
          ],
          "contourcarpet": [
           {
            "colorbar": {
             "outlinewidth": 0,
             "ticks": ""
            },
            "type": "contourcarpet"
           }
          ],
          "heatmap": [
           {
            "colorbar": {
             "outlinewidth": 0,
             "ticks": ""
            },
            "colorscale": [
             [
              0,
              "#0d0887"
             ],
             [
              0.1111111111111111,
              "#46039f"
             ],
             [
              0.2222222222222222,
              "#7201a8"
             ],
             [
              0.3333333333333333,
              "#9c179e"
             ],
             [
              0.4444444444444444,
              "#bd3786"
             ],
             [
              0.5555555555555556,
              "#d8576b"
             ],
             [
              0.6666666666666666,
              "#ed7953"
             ],
             [
              0.7777777777777778,
              "#fb9f3a"
             ],
             [
              0.8888888888888888,
              "#fdca26"
             ],
             [
              1,
              "#f0f921"
             ]
            ],
            "type": "heatmap"
           }
          ],
          "histogram": [
           {
            "marker": {
             "pattern": {
              "fillmode": "overlay",
              "size": 10,
              "solidity": 0.2
             }
            },
            "type": "histogram"
           }
          ],
          "histogram2d": [
           {
            "colorbar": {
             "outlinewidth": 0,
             "ticks": ""
            },
            "colorscale": [
             [
              0,
              "#0d0887"
             ],
             [
              0.1111111111111111,
              "#46039f"
             ],
             [
              0.2222222222222222,
              "#7201a8"
             ],
             [
              0.3333333333333333,
              "#9c179e"
             ],
             [
              0.4444444444444444,
              "#bd3786"
             ],
             [
              0.5555555555555556,
              "#d8576b"
             ],
             [
              0.6666666666666666,
              "#ed7953"
             ],
             [
              0.7777777777777778,
              "#fb9f3a"
             ],
             [
              0.8888888888888888,
              "#fdca26"
             ],
             [
              1,
              "#f0f921"
             ]
            ],
            "type": "histogram2d"
           }
          ],
          "histogram2dcontour": [
           {
            "colorbar": {
             "outlinewidth": 0,
             "ticks": ""
            },
            "colorscale": [
             [
              0,
              "#0d0887"
             ],
             [
              0.1111111111111111,
              "#46039f"
             ],
             [
              0.2222222222222222,
              "#7201a8"
             ],
             [
              0.3333333333333333,
              "#9c179e"
             ],
             [
              0.4444444444444444,
              "#bd3786"
             ],
             [
              0.5555555555555556,
              "#d8576b"
             ],
             [
              0.6666666666666666,
              "#ed7953"
             ],
             [
              0.7777777777777778,
              "#fb9f3a"
             ],
             [
              0.8888888888888888,
              "#fdca26"
             ],
             [
              1,
              "#f0f921"
             ]
            ],
            "type": "histogram2dcontour"
           }
          ],
          "mesh3d": [
           {
            "colorbar": {
             "outlinewidth": 0,
             "ticks": ""
            },
            "type": "mesh3d"
           }
          ],
          "parcoords": [
           {
            "line": {
             "colorbar": {
              "outlinewidth": 0,
              "ticks": ""
             }
            },
            "type": "parcoords"
           }
          ],
          "pie": [
           {
            "automargin": true,
            "type": "pie"
           }
          ],
          "scatter": [
           {
            "fillpattern": {
             "fillmode": "overlay",
             "size": 10,
             "solidity": 0.2
            },
            "type": "scatter"
           }
          ],
          "scatter3d": [
           {
            "line": {
             "colorbar": {
              "outlinewidth": 0,
              "ticks": ""
             }
            },
            "marker": {
             "colorbar": {
              "outlinewidth": 0,
              "ticks": ""
             }
            },
            "type": "scatter3d"
           }
          ],
          "scattercarpet": [
           {
            "marker": {
             "colorbar": {
              "outlinewidth": 0,
              "ticks": ""
             }
            },
            "type": "scattercarpet"
           }
          ],
          "scattergeo": [
           {
            "marker": {
             "colorbar": {
              "outlinewidth": 0,
              "ticks": ""
             }
            },
            "type": "scattergeo"
           }
          ],
          "scattergl": [
           {
            "marker": {
             "colorbar": {
              "outlinewidth": 0,
              "ticks": ""
             }
            },
            "type": "scattergl"
           }
          ],
          "scattermap": [
           {
            "marker": {
             "colorbar": {
              "outlinewidth": 0,
              "ticks": ""
             }
            },
            "type": "scattermap"
           }
          ],
          "scattermapbox": [
           {
            "marker": {
             "colorbar": {
              "outlinewidth": 0,
              "ticks": ""
             }
            },
            "type": "scattermapbox"
           }
          ],
          "scatterpolar": [
           {
            "marker": {
             "colorbar": {
              "outlinewidth": 0,
              "ticks": ""
             }
            },
            "type": "scatterpolar"
           }
          ],
          "scatterpolargl": [
           {
            "marker": {
             "colorbar": {
              "outlinewidth": 0,
              "ticks": ""
             }
            },
            "type": "scatterpolargl"
           }
          ],
          "scatterternary": [
           {
            "marker": {
             "colorbar": {
              "outlinewidth": 0,
              "ticks": ""
             }
            },
            "type": "scatterternary"
           }
          ],
          "surface": [
           {
            "colorbar": {
             "outlinewidth": 0,
             "ticks": ""
            },
            "colorscale": [
             [
              0,
              "#0d0887"
             ],
             [
              0.1111111111111111,
              "#46039f"
             ],
             [
              0.2222222222222222,
              "#7201a8"
             ],
             [
              0.3333333333333333,
              "#9c179e"
             ],
             [
              0.4444444444444444,
              "#bd3786"
             ],
             [
              0.5555555555555556,
              "#d8576b"
             ],
             [
              0.6666666666666666,
              "#ed7953"
             ],
             [
              0.7777777777777778,
              "#fb9f3a"
             ],
             [
              0.8888888888888888,
              "#fdca26"
             ],
             [
              1,
              "#f0f921"
             ]
            ],
            "type": "surface"
           }
          ],
          "table": [
           {
            "cells": {
             "fill": {
              "color": "#EBF0F8"
             },
             "line": {
              "color": "white"
             }
            },
            "header": {
             "fill": {
              "color": "#C8D4E3"
             },
             "line": {
              "color": "white"
             }
            },
            "type": "table"
           }
          ]
         },
         "layout": {
          "annotationdefaults": {
           "arrowcolor": "#2a3f5f",
           "arrowhead": 0,
           "arrowwidth": 1
          },
          "autotypenumbers": "strict",
          "coloraxis": {
           "colorbar": {
            "outlinewidth": 0,
            "ticks": ""
           }
          },
          "colorscale": {
           "diverging": [
            [
             0,
             "#8e0152"
            ],
            [
             0.1,
             "#c51b7d"
            ],
            [
             0.2,
             "#de77ae"
            ],
            [
             0.3,
             "#f1b6da"
            ],
            [
             0.4,
             "#fde0ef"
            ],
            [
             0.5,
             "#f7f7f7"
            ],
            [
             0.6,
             "#e6f5d0"
            ],
            [
             0.7,
             "#b8e186"
            ],
            [
             0.8,
             "#7fbc41"
            ],
            [
             0.9,
             "#4d9221"
            ],
            [
             1,
             "#276419"
            ]
           ],
           "sequential": [
            [
             0,
             "#0d0887"
            ],
            [
             0.1111111111111111,
             "#46039f"
            ],
            [
             0.2222222222222222,
             "#7201a8"
            ],
            [
             0.3333333333333333,
             "#9c179e"
            ],
            [
             0.4444444444444444,
             "#bd3786"
            ],
            [
             0.5555555555555556,
             "#d8576b"
            ],
            [
             0.6666666666666666,
             "#ed7953"
            ],
            [
             0.7777777777777778,
             "#fb9f3a"
            ],
            [
             0.8888888888888888,
             "#fdca26"
            ],
            [
             1,
             "#f0f921"
            ]
           ],
           "sequentialminus": [
            [
             0,
             "#0d0887"
            ],
            [
             0.1111111111111111,
             "#46039f"
            ],
            [
             0.2222222222222222,
             "#7201a8"
            ],
            [
             0.3333333333333333,
             "#9c179e"
            ],
            [
             0.4444444444444444,
             "#bd3786"
            ],
            [
             0.5555555555555556,
             "#d8576b"
            ],
            [
             0.6666666666666666,
             "#ed7953"
            ],
            [
             0.7777777777777778,
             "#fb9f3a"
            ],
            [
             0.8888888888888888,
             "#fdca26"
            ],
            [
             1,
             "#f0f921"
            ]
           ]
          },
          "colorway": [
           "#636efa",
           "#EF553B",
           "#00cc96",
           "#ab63fa",
           "#FFA15A",
           "#19d3f3",
           "#FF6692",
           "#B6E880",
           "#FF97FF",
           "#FECB52"
          ],
          "font": {
           "color": "#2a3f5f"
          },
          "geo": {
           "bgcolor": "white",
           "lakecolor": "white",
           "landcolor": "#E5ECF6",
           "showlakes": true,
           "showland": true,
           "subunitcolor": "white"
          },
          "hoverlabel": {
           "align": "left"
          },
          "hovermode": "closest",
          "mapbox": {
           "style": "light"
          },
          "paper_bgcolor": "white",
          "plot_bgcolor": "#E5ECF6",
          "polar": {
           "angularaxis": {
            "gridcolor": "white",
            "linecolor": "white",
            "ticks": ""
           },
           "bgcolor": "#E5ECF6",
           "radialaxis": {
            "gridcolor": "white",
            "linecolor": "white",
            "ticks": ""
           }
          },
          "scene": {
           "xaxis": {
            "backgroundcolor": "#E5ECF6",
            "gridcolor": "white",
            "gridwidth": 2,
            "linecolor": "white",
            "showbackground": true,
            "ticks": "",
            "zerolinecolor": "white"
           },
           "yaxis": {
            "backgroundcolor": "#E5ECF6",
            "gridcolor": "white",
            "gridwidth": 2,
            "linecolor": "white",
            "showbackground": true,
            "ticks": "",
            "zerolinecolor": "white"
           },
           "zaxis": {
            "backgroundcolor": "#E5ECF6",
            "gridcolor": "white",
            "gridwidth": 2,
            "linecolor": "white",
            "showbackground": true,
            "ticks": "",
            "zerolinecolor": "white"
           }
          },
          "shapedefaults": {
           "line": {
            "color": "#2a3f5f"
           }
          },
          "ternary": {
           "aaxis": {
            "gridcolor": "white",
            "linecolor": "white",
            "ticks": ""
           },
           "baxis": {
            "gridcolor": "white",
            "linecolor": "white",
            "ticks": ""
           },
           "bgcolor": "#E5ECF6",
           "caxis": {
            "gridcolor": "white",
            "linecolor": "white",
            "ticks": ""
           }
          },
          "title": {
           "x": 0.05
          },
          "xaxis": {
           "automargin": true,
           "gridcolor": "white",
           "linecolor": "white",
           "ticks": "",
           "title": {
            "standoff": 15
           },
           "zerolinecolor": "white",
           "zerolinewidth": 2
          },
          "yaxis": {
           "automargin": true,
           "gridcolor": "white",
           "linecolor": "white",
           "ticks": "",
           "title": {
            "standoff": 15
           },
           "zerolinecolor": "white",
           "zerolinewidth": 2
          }
         }
        },
        "title": {
         "text": "Model Comparison by Weighted F1 Score on the EmoryNLP dataset"
        },
        "width": 1200,
        "xaxis": {
         "range": [
          0,
          1
         ],
         "title": {
          "text": "Weighted F1 Score"
         }
        },
        "yaxis": {
         "title": {
          "text": "Model"
         }
        }
       }
      }
     },
     "metadata": {},
     "output_type": "display_data"
    }
   ],
   "source": [
    "fig = go.Figure(go.Bar(\n",
    "    x=list(model_scores.values()),\n",
    "    y=list(model_scores.keys()),\n",
    "    orientation='h',\n",
    "    text=[f\"{v:.2f}\" for v in model_scores.values()],\n",
    "    textposition='auto'\n",
    "))\n",
    "\n",
    "fig.update_layout(\n",
    "    title=\"Model Comparison by Weighted F1 Score on the EmoryNLP dataset\",\n",
    "    xaxis_title=\"Weighted F1 Score\",\n",
    "    yaxis_title=\"Model\",\n",
    "    xaxis_range=[0, 1],\n",
    "    width=1200,\n",
    "    height=600,\n",
    "    margin=dict(l=50, r=50, t=50, b=50),\n",
    ")\n",
    "\n",
    "fig.show()\n"
   ]
  },
  {
   "cell_type": "code",
   "execution_count": null,
   "id": "2c298584-0c20-4688-8ec5-90eebc1f52ac",
   "metadata": {},
   "outputs": [],
   "source": []
  },
  {
   "cell_type": "code",
   "execution_count": null,
   "id": "6e1761ed-84a8-4433-bfa1-76d25d71b2e1",
   "metadata": {},
   "outputs": [],
   "source": []
  }
 ],
 "metadata": {
  "kernelspec": {
   "display_name": "Emotion Recognition",
   "language": "python",
   "name": "emo-rec"
  },
  "language_info": {
   "codemirror_mode": {
    "name": "ipython",
    "version": 3
   },
   "file_extension": ".py",
   "mimetype": "text/x-python",
   "name": "python",
   "nbconvert_exporter": "python",
   "pygments_lexer": "ipython3",
   "version": "3.9.23"
  }
 },
 "nbformat": 4,
 "nbformat_minor": 5
}
